{
  "nbformat": 4,
  "nbformat_minor": 0,
  "metadata": {
    "colab": {
      "name": "1147project1.2.ipynb",
      "provenance": [],
      "collapsed_sections": [
        "QRKHuELQwKtg"
      ],
      "toc_visible": true
    },
    "kernelspec": {
      "name": "python3",
      "display_name": "Python 3"
    }
  },
  "cells": [
    {
      "cell_type": "markdown",
      "metadata": {
        "id": "cOuJuAztPz6T",
        "colab_type": "text"
      },
      "source": [
        "#wine"
      ]
    },
    {
      "cell_type": "code",
      "metadata": {
        "id": "_eqJsPqaP0nd",
        "colab_type": "code",
        "outputId": "2e123415-2132-4f9b-b1d2-629eb6aba717",
        "colab": {
          "base_uri": "https://localhost:8080/",
          "height": 34
        }
      },
      "source": [
        "import pandas as pd \n",
        "import numpy as np\n",
        "from google.colab import drive\n",
        "drive.mount('/content/drive')\n",
        "import os\n",
        "os.chdir('/content/drive/My Drive/che1147')\n",
        "from sklearn import preprocessing\n",
        "le = preprocessing.LabelEncoder()\n",
        "from sklearn.preprocessing import StandardScaler as scaler\n",
        "from mpl_toolkits.mplot3d import Axes3D\n",
        "from sklearn.model_selection import train_test_split\n",
        "from sklearn.metrics import accuracy_score\n",
        "import matplotlib.pyplot as plt\n",
        "import sklearn \n",
        "from sklearn import neighbors\n",
        "import matplotlib\n",
        "import matplotlib.pyplot as plt"
      ],
      "execution_count": 0,
      "outputs": [
        {
          "output_type": "stream",
          "text": [
            "Drive already mounted at /content/drive; to attempt to forcibly remount, call drive.mount(\"/content/drive\", force_remount=True).\n"
          ],
          "name": "stdout"
        }
      ]
    },
    {
      "cell_type": "code",
      "metadata": {
        "id": "8-s6DLYXeX4F",
        "colab_type": "code",
        "colab": {}
      },
      "source": [
        "from sklearn.model_selection import cross_val_score\n",
        "from sklearn.neighbors import KNeighborsClassifier\n",
        "knn= KNeighborsClassifier(n_neighbors=3)"
      ],
      "execution_count": 0,
      "outputs": []
    },
    {
      "cell_type": "code",
      "metadata": {
        "id": "l3ROtD0QQqgT",
        "colab_type": "code",
        "outputId": "d2710fec-91d4-49e2-d6be-c6e36ec168f0",
        "colab": {
          "base_uri": "https://localhost:8080/",
          "height": 418
        }
      },
      "source": [
        "dfwine=pd.read_csv(\"winequalityN.csv\")\n",
        "dfwine"
      ],
      "execution_count": 0,
      "outputs": [
        {
          "output_type": "execute_result",
          "data": {
            "text/html": [
              "<div>\n",
              "<style scoped>\n",
              "    .dataframe tbody tr th:only-of-type {\n",
              "        vertical-align: middle;\n",
              "    }\n",
              "\n",
              "    .dataframe tbody tr th {\n",
              "        vertical-align: top;\n",
              "    }\n",
              "\n",
              "    .dataframe thead th {\n",
              "        text-align: right;\n",
              "    }\n",
              "</style>\n",
              "<table border=\"1\" class=\"dataframe\">\n",
              "  <thead>\n",
              "    <tr style=\"text-align: right;\">\n",
              "      <th></th>\n",
              "      <th>type</th>\n",
              "      <th>fixed acidity</th>\n",
              "      <th>volatile acidity</th>\n",
              "      <th>citric acid</th>\n",
              "      <th>residual sugar</th>\n",
              "      <th>chlorides</th>\n",
              "      <th>free sulfur dioxide</th>\n",
              "      <th>total sulfur dioxide</th>\n",
              "      <th>density</th>\n",
              "      <th>pH</th>\n",
              "      <th>sulphates</th>\n",
              "      <th>alcohol</th>\n",
              "      <th>quality</th>\n",
              "    </tr>\n",
              "  </thead>\n",
              "  <tbody>\n",
              "    <tr>\n",
              "      <th>0</th>\n",
              "      <td>white</td>\n",
              "      <td>7.0</td>\n",
              "      <td>0.270</td>\n",
              "      <td>0.36</td>\n",
              "      <td>20.7</td>\n",
              "      <td>0.045</td>\n",
              "      <td>45.0</td>\n",
              "      <td>170.0</td>\n",
              "      <td>1.00100</td>\n",
              "      <td>3.00</td>\n",
              "      <td>0.45</td>\n",
              "      <td>8.8</td>\n",
              "      <td>6</td>\n",
              "    </tr>\n",
              "    <tr>\n",
              "      <th>1</th>\n",
              "      <td>white</td>\n",
              "      <td>6.3</td>\n",
              "      <td>0.300</td>\n",
              "      <td>0.34</td>\n",
              "      <td>1.6</td>\n",
              "      <td>0.049</td>\n",
              "      <td>14.0</td>\n",
              "      <td>132.0</td>\n",
              "      <td>0.99400</td>\n",
              "      <td>3.30</td>\n",
              "      <td>0.49</td>\n",
              "      <td>9.5</td>\n",
              "      <td>6</td>\n",
              "    </tr>\n",
              "    <tr>\n",
              "      <th>2</th>\n",
              "      <td>white</td>\n",
              "      <td>8.1</td>\n",
              "      <td>0.280</td>\n",
              "      <td>0.40</td>\n",
              "      <td>6.9</td>\n",
              "      <td>0.050</td>\n",
              "      <td>30.0</td>\n",
              "      <td>97.0</td>\n",
              "      <td>0.99510</td>\n",
              "      <td>3.26</td>\n",
              "      <td>0.44</td>\n",
              "      <td>10.1</td>\n",
              "      <td>6</td>\n",
              "    </tr>\n",
              "    <tr>\n",
              "      <th>3</th>\n",
              "      <td>white</td>\n",
              "      <td>7.2</td>\n",
              "      <td>0.230</td>\n",
              "      <td>0.32</td>\n",
              "      <td>8.5</td>\n",
              "      <td>0.058</td>\n",
              "      <td>47.0</td>\n",
              "      <td>186.0</td>\n",
              "      <td>0.99560</td>\n",
              "      <td>3.19</td>\n",
              "      <td>0.40</td>\n",
              "      <td>9.9</td>\n",
              "      <td>6</td>\n",
              "    </tr>\n",
              "    <tr>\n",
              "      <th>4</th>\n",
              "      <td>white</td>\n",
              "      <td>7.2</td>\n",
              "      <td>0.230</td>\n",
              "      <td>0.32</td>\n",
              "      <td>8.5</td>\n",
              "      <td>0.058</td>\n",
              "      <td>47.0</td>\n",
              "      <td>186.0</td>\n",
              "      <td>0.99560</td>\n",
              "      <td>3.19</td>\n",
              "      <td>0.40</td>\n",
              "      <td>9.9</td>\n",
              "      <td>6</td>\n",
              "    </tr>\n",
              "    <tr>\n",
              "      <th>...</th>\n",
              "      <td>...</td>\n",
              "      <td>...</td>\n",
              "      <td>...</td>\n",
              "      <td>...</td>\n",
              "      <td>...</td>\n",
              "      <td>...</td>\n",
              "      <td>...</td>\n",
              "      <td>...</td>\n",
              "      <td>...</td>\n",
              "      <td>...</td>\n",
              "      <td>...</td>\n",
              "      <td>...</td>\n",
              "      <td>...</td>\n",
              "    </tr>\n",
              "    <tr>\n",
              "      <th>6492</th>\n",
              "      <td>red</td>\n",
              "      <td>6.2</td>\n",
              "      <td>0.600</td>\n",
              "      <td>0.08</td>\n",
              "      <td>2.0</td>\n",
              "      <td>0.090</td>\n",
              "      <td>32.0</td>\n",
              "      <td>44.0</td>\n",
              "      <td>0.99490</td>\n",
              "      <td>3.45</td>\n",
              "      <td>0.58</td>\n",
              "      <td>10.5</td>\n",
              "      <td>5</td>\n",
              "    </tr>\n",
              "    <tr>\n",
              "      <th>6493</th>\n",
              "      <td>red</td>\n",
              "      <td>5.9</td>\n",
              "      <td>0.550</td>\n",
              "      <td>0.10</td>\n",
              "      <td>2.2</td>\n",
              "      <td>0.062</td>\n",
              "      <td>39.0</td>\n",
              "      <td>51.0</td>\n",
              "      <td>0.99512</td>\n",
              "      <td>3.52</td>\n",
              "      <td>NaN</td>\n",
              "      <td>11.2</td>\n",
              "      <td>6</td>\n",
              "    </tr>\n",
              "    <tr>\n",
              "      <th>6494</th>\n",
              "      <td>red</td>\n",
              "      <td>6.3</td>\n",
              "      <td>0.510</td>\n",
              "      <td>0.13</td>\n",
              "      <td>2.3</td>\n",
              "      <td>0.076</td>\n",
              "      <td>29.0</td>\n",
              "      <td>40.0</td>\n",
              "      <td>0.99574</td>\n",
              "      <td>3.42</td>\n",
              "      <td>0.75</td>\n",
              "      <td>11.0</td>\n",
              "      <td>6</td>\n",
              "    </tr>\n",
              "    <tr>\n",
              "      <th>6495</th>\n",
              "      <td>red</td>\n",
              "      <td>5.9</td>\n",
              "      <td>0.645</td>\n",
              "      <td>0.12</td>\n",
              "      <td>2.0</td>\n",
              "      <td>0.075</td>\n",
              "      <td>32.0</td>\n",
              "      <td>44.0</td>\n",
              "      <td>0.99547</td>\n",
              "      <td>3.57</td>\n",
              "      <td>0.71</td>\n",
              "      <td>10.2</td>\n",
              "      <td>5</td>\n",
              "    </tr>\n",
              "    <tr>\n",
              "      <th>6496</th>\n",
              "      <td>red</td>\n",
              "      <td>6.0</td>\n",
              "      <td>0.310</td>\n",
              "      <td>0.47</td>\n",
              "      <td>3.6</td>\n",
              "      <td>0.067</td>\n",
              "      <td>18.0</td>\n",
              "      <td>42.0</td>\n",
              "      <td>0.99549</td>\n",
              "      <td>3.39</td>\n",
              "      <td>0.66</td>\n",
              "      <td>11.0</td>\n",
              "      <td>6</td>\n",
              "    </tr>\n",
              "  </tbody>\n",
              "</table>\n",
              "<p>6497 rows × 13 columns</p>\n",
              "</div>"
            ],
            "text/plain": [
              "       type  fixed acidity  volatile acidity  ...  sulphates  alcohol  quality\n",
              "0     white            7.0             0.270  ...       0.45      8.8        6\n",
              "1     white            6.3             0.300  ...       0.49      9.5        6\n",
              "2     white            8.1             0.280  ...       0.44     10.1        6\n",
              "3     white            7.2             0.230  ...       0.40      9.9        6\n",
              "4     white            7.2             0.230  ...       0.40      9.9        6\n",
              "...     ...            ...               ...  ...        ...      ...      ...\n",
              "6492    red            6.2             0.600  ...       0.58     10.5        5\n",
              "6493    red            5.9             0.550  ...        NaN     11.2        6\n",
              "6494    red            6.3             0.510  ...       0.75     11.0        6\n",
              "6495    red            5.9             0.645  ...       0.71     10.2        5\n",
              "6496    red            6.0             0.310  ...       0.66     11.0        6\n",
              "\n",
              "[6497 rows x 13 columns]"
            ]
          },
          "metadata": {
            "tags": []
          },
          "execution_count": 62
        }
      ]
    },
    {
      "cell_type": "markdown",
      "metadata": {
        "id": "lkyvVuVabB1w",
        "colab_type": "text"
      },
      "source": [
        "###missing value"
      ]
    },
    {
      "cell_type": "code",
      "metadata": {
        "id": "xqQHwmnVRSHz",
        "colab_type": "code",
        "outputId": "9ec0076c-8113-4915-ae7d-a907d1883edf",
        "colab": {
          "base_uri": "https://localhost:8080/",
          "height": 34
        }
      },
      "source": [
        "# first we check the missing value \n",
        "dfwine[dfwine.isnull().T.any().T].shape\n",
        "#only 34 samples have missing value\n",
        "#first we can try to fill it an if we can not have an well method to fill them we can just drop them "
      ],
      "execution_count": 0,
      "outputs": [
        {
          "output_type": "execute_result",
          "data": {
            "text/plain": [
              "(34, 13)"
            ]
          },
          "metadata": {
            "tags": []
          },
          "execution_count": 63
        }
      ]
    },
    {
      "cell_type": "code",
      "metadata": {
        "id": "5qe4LlwmR8N6",
        "colab_type": "code",
        "colab": {}
      },
      "source": [
        "dfna=dfwine[dfwine.isnull().T.any().T]\n",
        "#fixed acidity\t\n",
        "#volatile acidity\t\n",
        "#citric acid\t\n",
        "#residual sugar\n",
        "#chlorides\n",
        "#pH\n",
        "#sulphates"
      ],
      "execution_count": 0,
      "outputs": []
    },
    {
      "cell_type": "code",
      "metadata": {
        "id": "48QBtpLTzVDQ",
        "colab_type": "code",
        "outputId": "76d65d35-649b-42c9-df72-025c85920fb9",
        "colab": {
          "base_uri": "https://localhost:8080/",
          "height": 312
        }
      },
      "source": [
        "import seaborn as sns\n",
        "missinval=(dfna.shape[0]-dfna.count()).tolist()\n",
        "sns.barplot(y=dfna.columns.tolist(),x=missinval)\n",
        "plt.xlabel('amount of missing value')\n",
        "plt.ylabel('feature')\n",
        "plt.title('missing value in each feature')"
      ],
      "execution_count": 0,
      "outputs": [
        {
          "output_type": "execute_result",
          "data": {
            "text/plain": [
              "Text(0.5, 1.0, 'missing value in each feature')"
            ]
          },
          "metadata": {
            "tags": []
          },
          "execution_count": 65
        },
        {
          "output_type": "display_data",
          "data": {
            "image/png": "[encoded data removed]",
            "text/plain": [
              "<Figure size 432x288 with 1 Axes>"
            ]
          },
          "metadata": {
            "tags": []
          }
        }
      ]
    },
    {
      "cell_type": "code",
      "metadata": {
        "id": "aiiD2wq-UFyr",
        "colab_type": "code",
        "outputId": "39775687-a602-40b3-cfd6-2d347c4f5cdc",
        "colab": {
          "base_uri": "https://localhost:8080/",
          "height": 312
        }
      },
      "source": [
        "#fixed acidity\n",
        "dfsub=dfwine['fixed acidity'].dropna()\n",
        "plt.hist(dfsub.values.tolist())\n",
        "plt.xlabel('fixed acidity')\n",
        "plt.ylabel('number')\n",
        "plt.title(\"fixed acidity distribution\")"
      ],
      "execution_count": 0,
      "outputs": [
        {
          "output_type": "execute_result",
          "data": {
            "text/plain": [
              "Text(0.5, 1.0, 'fixed acidity distribution')"
            ]
          },
          "metadata": {
            "tags": []
          },
          "execution_count": 66
        },
        {
          "output_type": "display_data",
          "data": {
            "image/png": "[encoded data removed]",
            "text/plain": [
              "<Figure size 432x288 with 1 Axes>"
            ]
          },
          "metadata": {
            "tags": []
          }
        }
      ]
    },
    {
      "cell_type": "code",
      "metadata": {
        "id": "kAp2rMzEXOc9",
        "colab_type": "code",
        "colab": {}
      },
      "source": [
        "#make it a funtion \n",
        "def histpic(x):\n",
        "  dfsub=dfwine[x].dropna()\n",
        "  return dfsub.values.tolist()"
      ],
      "execution_count": 0,
      "outputs": []
    },
    {
      "cell_type": "code",
      "metadata": {
        "id": "R0inOkE_ZaoI",
        "colab_type": "code",
        "outputId": "bcb54978-f9c0-4128-a1e9-4f6d96e52a0f",
        "colab": {
          "base_uri": "https://localhost:8080/",
          "height": 312
        }
      },
      "source": [
        "plt.hist(histpic('volatile acidity'))\n",
        "plt.xlabel('volatile acidity')\n",
        "plt.ylabel('number')\n",
        "plt.title(\"volatile acidity distribution\")"
      ],
      "execution_count": 0,
      "outputs": [
        {
          "output_type": "execute_result",
          "data": {
            "text/plain": [
              "Text(0.5, 1.0, 'volatile acidity distribution')"
            ]
          },
          "metadata": {
            "tags": []
          },
          "execution_count": 68
        },
        {
          "output_type": "display_data",
          "data": {
            "image/png": "[encoded data removed]",
            "text/plain": [
              "<Figure size 432x288 with 1 Axes>"
            ]
          },
          "metadata": {
            "tags": []
          }
        }
      ]
    },
    {
      "cell_type": "code",
      "metadata": {
        "id": "6c2a3Yk4aYRo",
        "colab_type": "code",
        "outputId": "1ee6a50f-1825-4e5e-8eb0-4007d3b27d50",
        "colab": {
          "base_uri": "https://localhost:8080/",
          "height": 312
        }
      },
      "source": [
        "plt.hist(histpic('citric acid'))\n",
        "\n",
        "plt.xlabel('citric acid')\n",
        "plt.ylabel('number')\n",
        "plt.title(\"citric acid distribution\")"
      ],
      "execution_count": 0,
      "outputs": [
        {
          "output_type": "execute_result",
          "data": {
            "text/plain": [
              "Text(0.5, 1.0, 'citric acid distribution')"
            ]
          },
          "metadata": {
            "tags": []
          },
          "execution_count": 69
        },
        {
          "output_type": "display_data",
          "data": {
            "image/png": "[encoded data removed]",
            "text/plain": [
              "<Figure size 432x288 with 1 Axes>"
            ]
          },
          "metadata": {
            "tags": []
          }
        }
      ]
    },
    {
      "cell_type": "code",
      "metadata": {
        "id": "m5FF5xmbae6W",
        "colab_type": "code",
        "outputId": "10421bbc-18c2-4a5f-e0c8-c2df3a0534ce",
        "colab": {
          "base_uri": "https://localhost:8080/",
          "height": 312
        }
      },
      "source": [
        "plt.hist(histpic('residual sugar'))\n",
        "\n",
        "plt.xlabel('residual sugar')\n",
        "plt.ylabel('number')\n",
        "plt.title(\"residual sugar distribution\")"
      ],
      "execution_count": 0,
      "outputs": [
        {
          "output_type": "execute_result",
          "data": {
            "text/plain": [
              "Text(0.5, 1.0, 'residual sugar distribution')"
            ]
          },
          "metadata": {
            "tags": []
          },
          "execution_count": 70
        },
        {
          "output_type": "display_data",
          "data": {
            "image/png": "[encoded data removed]",
            "text/plain": [
              "<Figure size 432x288 with 1 Axes>"
            ]
          },
          "metadata": {
            "tags": []
          }
        }
      ]
    },
    {
      "cell_type": "code",
      "metadata": {
        "id": "o2yMiQsYaj-6",
        "colab_type": "code",
        "outputId": "b636fa02-8a23-4e91-ff97-c84292edef95",
        "colab": {
          "base_uri": "https://localhost:8080/",
          "height": 312
        }
      },
      "source": [
        "plt.hist(histpic('chlorides'))\n",
        "plt.xlabel('chlorides')\n",
        "plt.ylabel('number')\n",
        "plt.title(\"chlorides distribution\")"
      ],
      "execution_count": 0,
      "outputs": [
        {
          "output_type": "execute_result",
          "data": {
            "text/plain": [
              "Text(0.5, 1.0, 'chlorides distribution')"
            ]
          },
          "metadata": {
            "tags": []
          },
          "execution_count": 71
        },
        {
          "output_type": "display_data",
          "data": {
            "image/png": "[encoded data removed]",
            "text/plain": [
              "<Figure size 432x288 with 1 Axes>"
            ]
          },
          "metadata": {
            "tags": []
          }
        }
      ]
    },
    {
      "cell_type": "code",
      "metadata": {
        "id": "tymGtLtEav7l",
        "colab_type": "code",
        "outputId": "991d976d-383d-433a-ab94-a47a429a31d8",
        "colab": {
          "base_uri": "https://localhost:8080/",
          "height": 312
        }
      },
      "source": [
        "plt.hist(histpic('pH'))\n",
        "plt.xlabel('pH')\n",
        "plt.ylabel('number')\n",
        "plt.title(\"pH distribution\")"
      ],
      "execution_count": 0,
      "outputs": [
        {
          "output_type": "execute_result",
          "data": {
            "text/plain": [
              "Text(0.5, 1.0, 'pH distribution')"
            ]
          },
          "metadata": {
            "tags": []
          },
          "execution_count": 72
        },
        {
          "output_type": "display_data",
          "data": {
            "image/png": "[encoded data removed]",
            "text/plain": [
              "<Figure size 432x288 with 1 Axes>"
            ]
          },
          "metadata": {
            "tags": []
          }
        }
      ]
    },
    {
      "cell_type": "code",
      "metadata": {
        "id": "SwyTGFfIaxXc",
        "colab_type": "code",
        "outputId": "513fa590-9d53-4bdc-f0f6-e4943a1f38b4",
        "colab": {
          "base_uri": "https://localhost:8080/",
          "height": 312
        }
      },
      "source": [
        "plt.hist(histpic('sulphates'))\n",
        "plt.xlabel('sulphates')\n",
        "plt.ylabel('number')\n",
        "plt.title(\"sulphates distribution\")"
      ],
      "execution_count": 0,
      "outputs": [
        {
          "output_type": "execute_result",
          "data": {
            "text/plain": [
              "Text(0.5, 1.0, 'sulphates distribution')"
            ]
          },
          "metadata": {
            "tags": []
          },
          "execution_count": 73
        },
        {
          "output_type": "display_data",
          "data": {
            "image/png": "[encoded data removed]",
            "text/plain": [
              "<Figure size 432x288 with 1 Axes>"
            ]
          },
          "metadata": {
            "tags": []
          }
        }
      ]
    },
    {
      "cell_type": "code",
      "metadata": {
        "id": "5IuqC-U2a8eh",
        "colab_type": "code",
        "colab": {}
      },
      "source": [
        "#我好累啊 所以我全部用平均数填\n",
        "dfwine['typewhite']=(dfwine['type']=='white')+0\n",
        "dfwine['typered']=(dfwine['type']=='red')+0\n",
        "dfwine=dfwine.iloc[:,1:]\n",
        "\n",
        "for i in dfwine.columns.tolist():\n",
        "  dfwine[i]=dfwine[i].fillna(dfwine[i].mean())"
      ],
      "execution_count": 0,
      "outputs": []
    },
    {
      "cell_type": "code",
      "metadata": {
        "id": "J0LFGKbmlk11",
        "colab_type": "code",
        "outputId": "85eaf6a3-0022-4e02-9809-7d92de2df0d6",
        "colab": {
          "base_uri": "https://localhost:8080/",
          "height": 435
        }
      },
      "source": [
        "dfwine"
      ],
      "execution_count": 0,
      "outputs": [
        {
          "output_type": "execute_result",
          "data": {
            "text/html": [
              "<div>\n",
              "<style scoped>\n",
              "    .dataframe tbody tr th:only-of-type {\n",
              "        vertical-align: middle;\n",
              "    }\n",
              "\n",
              "    .dataframe tbody tr th {\n",
              "        vertical-align: top;\n",
              "    }\n",
              "\n",
              "    .dataframe thead th {\n",
              "        text-align: right;\n",
              "    }\n",
              "</style>\n",
              "<table border=\"1\" class=\"dataframe\">\n",
              "  <thead>\n",
              "    <tr style=\"text-align: right;\">\n",
              "      <th></th>\n",
              "      <th>fixed acidity</th>\n",
              "      <th>volatile acidity</th>\n",
              "      <th>citric acid</th>\n",
              "      <th>residual sugar</th>\n",
              "      <th>chlorides</th>\n",
              "      <th>free sulfur dioxide</th>\n",
              "      <th>total sulfur dioxide</th>\n",
              "      <th>density</th>\n",
              "      <th>pH</th>\n",
              "      <th>sulphates</th>\n",
              "      <th>alcohol</th>\n",
              "      <th>quality</th>\n",
              "      <th>typewhite</th>\n",
              "      <th>typered</th>\n",
              "    </tr>\n",
              "  </thead>\n",
              "  <tbody>\n",
              "    <tr>\n",
              "      <th>0</th>\n",
              "      <td>7.0</td>\n",
              "      <td>0.270</td>\n",
              "      <td>0.36</td>\n",
              "      <td>20.7</td>\n",
              "      <td>0.045</td>\n",
              "      <td>45.0</td>\n",
              "      <td>170.0</td>\n",
              "      <td>1.00100</td>\n",
              "      <td>3.00</td>\n",
              "      <td>0.450000</td>\n",
              "      <td>8.8</td>\n",
              "      <td>6</td>\n",
              "      <td>1</td>\n",
              "      <td>0</td>\n",
              "    </tr>\n",
              "    <tr>\n",
              "      <th>1</th>\n",
              "      <td>6.3</td>\n",
              "      <td>0.300</td>\n",
              "      <td>0.34</td>\n",
              "      <td>1.6</td>\n",
              "      <td>0.049</td>\n",
              "      <td>14.0</td>\n",
              "      <td>132.0</td>\n",
              "      <td>0.99400</td>\n",
              "      <td>3.30</td>\n",
              "      <td>0.490000</td>\n",
              "      <td>9.5</td>\n",
              "      <td>6</td>\n",
              "      <td>1</td>\n",
              "      <td>0</td>\n",
              "    </tr>\n",
              "    <tr>\n",
              "      <th>2</th>\n",
              "      <td>8.1</td>\n",
              "      <td>0.280</td>\n",
              "      <td>0.40</td>\n",
              "      <td>6.9</td>\n",
              "      <td>0.050</td>\n",
              "      <td>30.0</td>\n",
              "      <td>97.0</td>\n",
              "      <td>0.99510</td>\n",
              "      <td>3.26</td>\n",
              "      <td>0.440000</td>\n",
              "      <td>10.1</td>\n",
              "      <td>6</td>\n",
              "      <td>1</td>\n",
              "      <td>0</td>\n",
              "    </tr>\n",
              "    <tr>\n",
              "      <th>3</th>\n",
              "      <td>7.2</td>\n",
              "      <td>0.230</td>\n",
              "      <td>0.32</td>\n",
              "      <td>8.5</td>\n",
              "      <td>0.058</td>\n",
              "      <td>47.0</td>\n",
              "      <td>186.0</td>\n",
              "      <td>0.99560</td>\n",
              "      <td>3.19</td>\n",
              "      <td>0.400000</td>\n",
              "      <td>9.9</td>\n",
              "      <td>6</td>\n",
              "      <td>1</td>\n",
              "      <td>0</td>\n",
              "    </tr>\n",
              "    <tr>\n",
              "      <th>4</th>\n",
              "      <td>7.2</td>\n",
              "      <td>0.230</td>\n",
              "      <td>0.32</td>\n",
              "      <td>8.5</td>\n",
              "      <td>0.058</td>\n",
              "      <td>47.0</td>\n",
              "      <td>186.0</td>\n",
              "      <td>0.99560</td>\n",
              "      <td>3.19</td>\n",
              "      <td>0.400000</td>\n",
              "      <td>9.9</td>\n",
              "      <td>6</td>\n",
              "      <td>1</td>\n",
              "      <td>0</td>\n",
              "    </tr>\n",
              "    <tr>\n",
              "      <th>...</th>\n",
              "      <td>...</td>\n",
              "      <td>...</td>\n",
              "      <td>...</td>\n",
              "      <td>...</td>\n",
              "      <td>...</td>\n",
              "      <td>...</td>\n",
              "      <td>...</td>\n",
              "      <td>...</td>\n",
              "      <td>...</td>\n",
              "      <td>...</td>\n",
              "      <td>...</td>\n",
              "      <td>...</td>\n",
              "      <td>...</td>\n",
              "      <td>...</td>\n",
              "    </tr>\n",
              "    <tr>\n",
              "      <th>6492</th>\n",
              "      <td>6.2</td>\n",
              "      <td>0.600</td>\n",
              "      <td>0.08</td>\n",
              "      <td>2.0</td>\n",
              "      <td>0.090</td>\n",
              "      <td>32.0</td>\n",
              "      <td>44.0</td>\n",
              "      <td>0.99490</td>\n",
              "      <td>3.45</td>\n",
              "      <td>0.580000</td>\n",
              "      <td>10.5</td>\n",
              "      <td>5</td>\n",
              "      <td>0</td>\n",
              "      <td>1</td>\n",
              "    </tr>\n",
              "    <tr>\n",
              "      <th>6493</th>\n",
              "      <td>5.9</td>\n",
              "      <td>0.550</td>\n",
              "      <td>0.10</td>\n",
              "      <td>2.2</td>\n",
              "      <td>0.062</td>\n",
              "      <td>39.0</td>\n",
              "      <td>51.0</td>\n",
              "      <td>0.99512</td>\n",
              "      <td>3.52</td>\n",
              "      <td>0.531215</td>\n",
              "      <td>11.2</td>\n",
              "      <td>6</td>\n",
              "      <td>0</td>\n",
              "      <td>1</td>\n",
              "    </tr>\n",
              "    <tr>\n",
              "      <th>6494</th>\n",
              "      <td>6.3</td>\n",
              "      <td>0.510</td>\n",
              "      <td>0.13</td>\n",
              "      <td>2.3</td>\n",
              "      <td>0.076</td>\n",
              "      <td>29.0</td>\n",
              "      <td>40.0</td>\n",
              "      <td>0.99574</td>\n",
              "      <td>3.42</td>\n",
              "      <td>0.750000</td>\n",
              "      <td>11.0</td>\n",
              "      <td>6</td>\n",
              "      <td>0</td>\n",
              "      <td>1</td>\n",
              "    </tr>\n",
              "    <tr>\n",
              "      <th>6495</th>\n",
              "      <td>5.9</td>\n",
              "      <td>0.645</td>\n",
              "      <td>0.12</td>\n",
              "      <td>2.0</td>\n",
              "      <td>0.075</td>\n",
              "      <td>32.0</td>\n",
              "      <td>44.0</td>\n",
              "      <td>0.99547</td>\n",
              "      <td>3.57</td>\n",
              "      <td>0.710000</td>\n",
              "      <td>10.2</td>\n",
              "      <td>5</td>\n",
              "      <td>0</td>\n",
              "      <td>1</td>\n",
              "    </tr>\n",
              "    <tr>\n",
              "      <th>6496</th>\n",
              "      <td>6.0</td>\n",
              "      <td>0.310</td>\n",
              "      <td>0.47</td>\n",
              "      <td>3.6</td>\n",
              "      <td>0.067</td>\n",
              "      <td>18.0</td>\n",
              "      <td>42.0</td>\n",
              "      <td>0.99549</td>\n",
              "      <td>3.39</td>\n",
              "      <td>0.660000</td>\n",
              "      <td>11.0</td>\n",
              "      <td>6</td>\n",
              "      <td>0</td>\n",
              "      <td>1</td>\n",
              "    </tr>\n",
              "  </tbody>\n",
              "</table>\n",
              "<p>6497 rows × 14 columns</p>\n",
              "</div>"
            ],
            "text/plain": [
              "      fixed acidity  volatile acidity  citric acid  ...  quality  typewhite  typered\n",
              "0               7.0             0.270         0.36  ...        6          1        0\n",
              "1               6.3             0.300         0.34  ...        6          1        0\n",
              "2               8.1             0.280         0.40  ...        6          1        0\n",
              "3               7.2             0.230         0.32  ...        6          1        0\n",
              "4               7.2             0.230         0.32  ...        6          1        0\n",
              "...             ...               ...          ...  ...      ...        ...      ...\n",
              "6492            6.2             0.600         0.08  ...        5          0        1\n",
              "6493            5.9             0.550         0.10  ...        6          0        1\n",
              "6494            6.3             0.510         0.13  ...        6          0        1\n",
              "6495            5.9             0.645         0.12  ...        5          0        1\n",
              "6496            6.0             0.310         0.47  ...        6          0        1\n",
              "\n",
              "[6497 rows x 14 columns]"
            ]
          },
          "metadata": {
            "tags": []
          },
          "execution_count": 75
        }
      ]
    },
    {
      "cell_type": "markdown",
      "metadata": {
        "id": "Hu2S9VNJpI9C",
        "colab_type": "text"
      },
      "source": [
        "###standardlize"
      ]
    },
    {
      "cell_type": "code",
      "metadata": {
        "id": "E_DeP3eQlyEE",
        "colab_type": "code",
        "colab": {}
      },
      "source": [
        "from sklearn.preprocessing import StandardScaler\n",
        "scaler = StandardScaler()\n",
        "#a=dfwine.columns.tolist()\n",
        "y=dfwine['quality']\n",
        "#dfwine=pd.DataFrame(scaler.fit_transform(dfwine))\n",
        "#dfwine.columns=a\n",
        "dfwine=dfwine.drop(['quality'],axis=1)"
      ],
      "execution_count": 0,
      "outputs": []
    },
    {
      "cell_type": "code",
      "metadata": {
        "id": "_XtLXV6OoFAi",
        "colab_type": "code",
        "colab": {}
      },
      "source": [
        "dfwine['target']=y"
      ],
      "execution_count": 0,
      "outputs": []
    },
    {
      "cell_type": "markdown",
      "metadata": {
        "id": "8J8y-q1QpiMB",
        "colab_type": "text"
      },
      "source": [
        "###explore"
      ]
    },
    {
      "cell_type": "code",
      "metadata": {
        "id": "ETW0z--oopZw",
        "colab_type": "code",
        "outputId": "9347a9d1-862e-4f9c-8578-d36350266343",
        "colab": {
          "base_uri": "https://localhost:8080/",
          "height": 435
        }
      },
      "source": [
        "dfwine"
      ],
      "execution_count": 0,
      "outputs": [
        {
          "output_type": "execute_result",
          "data": {
            "text/html": [
              "<div>\n",
              "<style scoped>\n",
              "    .dataframe tbody tr th:only-of-type {\n",
              "        vertical-align: middle;\n",
              "    }\n",
              "\n",
              "    .dataframe tbody tr th {\n",
              "        vertical-align: top;\n",
              "    }\n",
              "\n",
              "    .dataframe thead th {\n",
              "        text-align: right;\n",
              "    }\n",
              "</style>\n",
              "<table border=\"1\" class=\"dataframe\">\n",
              "  <thead>\n",
              "    <tr style=\"text-align: right;\">\n",
              "      <th></th>\n",
              "      <th>fixed acidity</th>\n",
              "      <th>volatile acidity</th>\n",
              "      <th>citric acid</th>\n",
              "      <th>residual sugar</th>\n",
              "      <th>chlorides</th>\n",
              "      <th>free sulfur dioxide</th>\n",
              "      <th>total sulfur dioxide</th>\n",
              "      <th>density</th>\n",
              "      <th>pH</th>\n",
              "      <th>sulphates</th>\n",
              "      <th>alcohol</th>\n",
              "      <th>typewhite</th>\n",
              "      <th>typered</th>\n",
              "      <th>target</th>\n",
              "    </tr>\n",
              "  </thead>\n",
              "  <tbody>\n",
              "    <tr>\n",
              "      <th>0</th>\n",
              "      <td>7.0</td>\n",
              "      <td>0.270</td>\n",
              "      <td>0.36</td>\n",
              "      <td>20.7</td>\n",
              "      <td>0.045</td>\n",
              "      <td>45.0</td>\n",
              "      <td>170.0</td>\n",
              "      <td>1.00100</td>\n",
              "      <td>3.00</td>\n",
              "      <td>0.450000</td>\n",
              "      <td>8.8</td>\n",
              "      <td>1</td>\n",
              "      <td>0</td>\n",
              "      <td>6</td>\n",
              "    </tr>\n",
              "    <tr>\n",
              "      <th>1</th>\n",
              "      <td>6.3</td>\n",
              "      <td>0.300</td>\n",
              "      <td>0.34</td>\n",
              "      <td>1.6</td>\n",
              "      <td>0.049</td>\n",
              "      <td>14.0</td>\n",
              "      <td>132.0</td>\n",
              "      <td>0.99400</td>\n",
              "      <td>3.30</td>\n",
              "      <td>0.490000</td>\n",
              "      <td>9.5</td>\n",
              "      <td>1</td>\n",
              "      <td>0</td>\n",
              "      <td>6</td>\n",
              "    </tr>\n",
              "    <tr>\n",
              "      <th>2</th>\n",
              "      <td>8.1</td>\n",
              "      <td>0.280</td>\n",
              "      <td>0.40</td>\n",
              "      <td>6.9</td>\n",
              "      <td>0.050</td>\n",
              "      <td>30.0</td>\n",
              "      <td>97.0</td>\n",
              "      <td>0.99510</td>\n",
              "      <td>3.26</td>\n",
              "      <td>0.440000</td>\n",
              "      <td>10.1</td>\n",
              "      <td>1</td>\n",
              "      <td>0</td>\n",
              "      <td>6</td>\n",
              "    </tr>\n",
              "    <tr>\n",
              "      <th>3</th>\n",
              "      <td>7.2</td>\n",
              "      <td>0.230</td>\n",
              "      <td>0.32</td>\n",
              "      <td>8.5</td>\n",
              "      <td>0.058</td>\n",
              "      <td>47.0</td>\n",
              "      <td>186.0</td>\n",
              "      <td>0.99560</td>\n",
              "      <td>3.19</td>\n",
              "      <td>0.400000</td>\n",
              "      <td>9.9</td>\n",
              "      <td>1</td>\n",
              "      <td>0</td>\n",
              "      <td>6</td>\n",
              "    </tr>\n",
              "    <tr>\n",
              "      <th>4</th>\n",
              "      <td>7.2</td>\n",
              "      <td>0.230</td>\n",
              "      <td>0.32</td>\n",
              "      <td>8.5</td>\n",
              "      <td>0.058</td>\n",
              "      <td>47.0</td>\n",
              "      <td>186.0</td>\n",
              "      <td>0.99560</td>\n",
              "      <td>3.19</td>\n",
              "      <td>0.400000</td>\n",
              "      <td>9.9</td>\n",
              "      <td>1</td>\n",
              "      <td>0</td>\n",
              "      <td>6</td>\n",
              "    </tr>\n",
              "    <tr>\n",
              "      <th>...</th>\n",
              "      <td>...</td>\n",
              "      <td>...</td>\n",
              "      <td>...</td>\n",
              "      <td>...</td>\n",
              "      <td>...</td>\n",
              "      <td>...</td>\n",
              "      <td>...</td>\n",
              "      <td>...</td>\n",
              "      <td>...</td>\n",
              "      <td>...</td>\n",
              "      <td>...</td>\n",
              "      <td>...</td>\n",
              "      <td>...</td>\n",
              "      <td>...</td>\n",
              "    </tr>\n",
              "    <tr>\n",
              "      <th>6492</th>\n",
              "      <td>6.2</td>\n",
              "      <td>0.600</td>\n",
              "      <td>0.08</td>\n",
              "      <td>2.0</td>\n",
              "      <td>0.090</td>\n",
              "      <td>32.0</td>\n",
              "      <td>44.0</td>\n",
              "      <td>0.99490</td>\n",
              "      <td>3.45</td>\n",
              "      <td>0.580000</td>\n",
              "      <td>10.5</td>\n",
              "      <td>0</td>\n",
              "      <td>1</td>\n",
              "      <td>5</td>\n",
              "    </tr>\n",
              "    <tr>\n",
              "      <th>6493</th>\n",
              "      <td>5.9</td>\n",
              "      <td>0.550</td>\n",
              "      <td>0.10</td>\n",
              "      <td>2.2</td>\n",
              "      <td>0.062</td>\n",
              "      <td>39.0</td>\n",
              "      <td>51.0</td>\n",
              "      <td>0.99512</td>\n",
              "      <td>3.52</td>\n",
              "      <td>0.531215</td>\n",
              "      <td>11.2</td>\n",
              "      <td>0</td>\n",
              "      <td>1</td>\n",
              "      <td>6</td>\n",
              "    </tr>\n",
              "    <tr>\n",
              "      <th>6494</th>\n",
              "      <td>6.3</td>\n",
              "      <td>0.510</td>\n",
              "      <td>0.13</td>\n",
              "      <td>2.3</td>\n",
              "      <td>0.076</td>\n",
              "      <td>29.0</td>\n",
              "      <td>40.0</td>\n",
              "      <td>0.99574</td>\n",
              "      <td>3.42</td>\n",
              "      <td>0.750000</td>\n",
              "      <td>11.0</td>\n",
              "      <td>0</td>\n",
              "      <td>1</td>\n",
              "      <td>6</td>\n",
              "    </tr>\n",
              "    <tr>\n",
              "      <th>6495</th>\n",
              "      <td>5.9</td>\n",
              "      <td>0.645</td>\n",
              "      <td>0.12</td>\n",
              "      <td>2.0</td>\n",
              "      <td>0.075</td>\n",
              "      <td>32.0</td>\n",
              "      <td>44.0</td>\n",
              "      <td>0.99547</td>\n",
              "      <td>3.57</td>\n",
              "      <td>0.710000</td>\n",
              "      <td>10.2</td>\n",
              "      <td>0</td>\n",
              "      <td>1</td>\n",
              "      <td>5</td>\n",
              "    </tr>\n",
              "    <tr>\n",
              "      <th>6496</th>\n",
              "      <td>6.0</td>\n",
              "      <td>0.310</td>\n",
              "      <td>0.47</td>\n",
              "      <td>3.6</td>\n",
              "      <td>0.067</td>\n",
              "      <td>18.0</td>\n",
              "      <td>42.0</td>\n",
              "      <td>0.99549</td>\n",
              "      <td>3.39</td>\n",
              "      <td>0.660000</td>\n",
              "      <td>11.0</td>\n",
              "      <td>0</td>\n",
              "      <td>1</td>\n",
              "      <td>6</td>\n",
              "    </tr>\n",
              "  </tbody>\n",
              "</table>\n",
              "<p>6497 rows × 14 columns</p>\n",
              "</div>"
            ],
            "text/plain": [
              "      fixed acidity  volatile acidity  citric acid  ...  typewhite  typered  target\n",
              "0               7.0             0.270         0.36  ...          1        0       6\n",
              "1               6.3             0.300         0.34  ...          1        0       6\n",
              "2               8.1             0.280         0.40  ...          1        0       6\n",
              "3               7.2             0.230         0.32  ...          1        0       6\n",
              "4               7.2             0.230         0.32  ...          1        0       6\n",
              "...             ...               ...          ...  ...        ...      ...     ...\n",
              "6492            6.2             0.600         0.08  ...          0        1       5\n",
              "6493            5.9             0.550         0.10  ...          0        1       6\n",
              "6494            6.3             0.510         0.13  ...          0        1       6\n",
              "6495            5.9             0.645         0.12  ...          0        1       5\n",
              "6496            6.0             0.310         0.47  ...          0        1       6\n",
              "\n",
              "[6497 rows x 14 columns]"
            ]
          },
          "metadata": {
            "tags": []
          },
          "execution_count": 78
        }
      ]
    },
    {
      "cell_type": "code",
      "metadata": {
        "id": "4WDWb6XZplqz",
        "colab_type": "code",
        "outputId": "73711059-eed4-410c-8f18-57eb6b0198f6",
        "colab": {
          "base_uri": "https://localhost:8080/",
          "height": 312
        }
      },
      "source": [
        "# any realtion ship between white and red \n",
        "\n",
        "plt.hist(dfwine.loc[dfwine['typewhite']>0]['target'],bins=5)\n",
        "plt.xlabel('quality')\n",
        "plt.ylabel('number')\n",
        "plt.title(\"white wine distribution\")"
      ],
      "execution_count": 0,
      "outputs": [
        {
          "output_type": "execute_result",
          "data": {
            "text/plain": [
              "Text(0.5, 1.0, 'white wine distribution')"
            ]
          },
          "metadata": {
            "tags": []
          },
          "execution_count": 79
        },
        {
          "output_type": "display_data",
          "data": {
            "image/png": "[encoded data removed]",
            "text/plain": [
              "<Figure size 432x288 with 1 Axes>"
            ]
          },
          "metadata": {
            "tags": []
          }
        }
      ]
    },
    {
      "cell_type": "code",
      "metadata": {
        "id": "QG_GFVDYqK3d",
        "colab_type": "code",
        "outputId": "9c8c1dd2-21ca-48ec-e391-489b656b7a50",
        "colab": {
          "base_uri": "https://localhost:8080/",
          "height": 312
        }
      },
      "source": [
        "plt.hist(dfwine.loc[dfwine['typered']>0]['target'],bins=5)\n",
        "plt.xlabel('quality')\n",
        "plt.ylabel('number')\n",
        "plt.title(\"red wine distribution\")"
      ],
      "execution_count": 0,
      "outputs": [
        {
          "output_type": "execute_result",
          "data": {
            "text/plain": [
              "Text(0.5, 1.0, 'red wine distribution')"
            ]
          },
          "metadata": {
            "tags": []
          },
          "execution_count": 80
        },
        {
          "output_type": "display_data",
          "data": {
            "image/png": "[encoded data removed]",
            "text/plain": [
              "<Figure size 432x288 with 1 Axes>"
            ]
          },
          "metadata": {
            "tags": []
          }
        }
      ]
    },
    {
      "cell_type": "code",
      "metadata": {
        "id": "LT5J0royqzRw",
        "colab_type": "code",
        "outputId": "7cee7701-6571-4d17-a469-340cf17c6b1c",
        "colab": {
          "base_uri": "https://localhost:8080/",
          "height": 696
        }
      },
      "source": [
        "# See the relationship between each faeatures\n",
        "import seaborn as sns\n",
        "\n",
        "corr = dfwine.corr()\n",
        "\n",
        "\n",
        "plt.subplots(figsize=(10,10))\n",
        "sns.heatmap(corr, cmap='Blues', annot=True)"
      ],
      "execution_count": 0,
      "outputs": [
        {
          "output_type": "execute_result",
          "data": {
            "text/plain": [
              "<matplotlib.axes._subplots.AxesSubplot at 0x7f89bc22eb00>"
            ]
          },
          "metadata": {
            "tags": []
          },
          "execution_count": 81
        },
        {
          "output_type": "display_data",
          "data": {
            "image/png": "[encoded data removed]",
            "text/plain": [
              "<Figure size 720x720 with 2 Axes>"
            ]
          },
          "metadata": {
            "tags": []
          }
        }
      ]
    },
    {
      "cell_type": "markdown",
      "metadata": {
        "id": "AJ3hM5TuvTn5",
        "colab_type": "text"
      },
      "source": [
        "we can see that free sulfur dioxide and total sulfur dioxide have a great relationship. and the wine is white or red have something to do with acidity."
      ]
    },
    {
      "cell_type": "code",
      "metadata": {
        "id": "ozsKQs6FPdoH",
        "colab_type": "code",
        "colab": {}
      },
      "source": [
        "corrlist=corr.iloc[:-1,-1].tolist()\n",
        "labellist=corr.iloc[:-1,-1].index.tolist()\n",
        "for i in range(len(corrlist)):\n",
        "  corrlist[i]=abs(corrlist[i])\n",
        "dfcorr=pd.DataFrame(corrlist)\n",
        "dfcorr['name']=labellist\n",
        "dfcorr=dfcorr.sort_values(by=[0],ascending=True)"
      ],
      "execution_count": 0,
      "outputs": []
    },
    {
      "cell_type": "code",
      "metadata": {
        "id": "tgeNDMj6OubR",
        "colab_type": "code",
        "outputId": "b706791f-88c5-40dc-b90f-2a3dda02d99a",
        "colab": {
          "base_uri": "https://localhost:8080/",
          "height": 306
        }
      },
      "source": [
        "plt.barh(dfcorr['name'],dfcorr[0])\n",
        "plt.xticks(size='small',rotation=90,fontsize=13)\n",
        "plt.xlabel('feature')\n",
        "plt.ylabel('importance')\n",
        "plt.title(\"importance-feature\")\n",
        "\n",
        "plt.show()"
      ],
      "execution_count": 0,
      "outputs": [
        {
          "output_type": "display_data",
          "data": {
            "image/png": "[encoded data removed]",
            "text/plain": [
              "<Figure size 432x288 with 1 Axes>"
            ]
          },
          "metadata": {
            "tags": []
          }
        }
      ]
    },
    {
      "cell_type": "markdown",
      "metadata": {
        "id": "QRKHuELQwKtg",
        "colab_type": "text"
      },
      "source": [
        "###PCA to find outliner\n",
        "\n"
      ]
    },
    {
      "cell_type": "code",
      "metadata": {
        "id": "noVZ0L_mKF2u",
        "colab_type": "code",
        "colab": {}
      },
      "source": [
        "X_train, X_test, y_train, y_test = train_test_split(dfwine.iloc[:,:-1], dfwine.iloc[:,-1], test_size=0.3,random_state=42)"
      ],
      "execution_count": 0,
      "outputs": []
    },
    {
      "cell_type": "code",
      "metadata": {
        "id": "_Uhz4_4Ty5-o",
        "colab_type": "code",
        "outputId": "b773dd3f-2e39-493e-bb91-c8b6514d556c",
        "colab": {
          "base_uri": "https://localhost:8080/"
        }
      },
      "source": [
        "X_train"
      ],
      "execution_count": 0,
      "outputs": [
        {
          "output_type": "execute_result",
          "data": {
            "text/html": [
              "<div>\n",
              "<style scoped>\n",
              "    .dataframe tbody tr th:only-of-type {\n",
              "        vertical-align: middle;\n",
              "    }\n",
              "\n",
              "    .dataframe tbody tr th {\n",
              "        vertical-align: top;\n",
              "    }\n",
              "\n",
              "    .dataframe thead th {\n",
              "        text-align: right;\n",
              "    }\n",
              "</style>\n",
              "<table border=\"1\" class=\"dataframe\">\n",
              "  <thead>\n",
              "    <tr style=\"text-align: right;\">\n",
              "      <th></th>\n",
              "      <th>fixed acidity</th>\n",
              "      <th>volatile acidity</th>\n",
              "      <th>citric acid</th>\n",
              "      <th>residual sugar</th>\n",
              "      <th>chlorides</th>\n",
              "      <th>free sulfur dioxide</th>\n",
              "      <th>total sulfur dioxide</th>\n",
              "      <th>density</th>\n",
              "      <th>pH</th>\n",
              "      <th>sulphates</th>\n",
              "      <th>alcohol</th>\n",
              "      <th>typewhite</th>\n",
              "      <th>typered</th>\n",
              "    </tr>\n",
              "  </thead>\n",
              "  <tbody>\n",
              "    <tr>\n",
              "      <th>3761</th>\n",
              "      <td>6.1</td>\n",
              "      <td>0.17</td>\n",
              "      <td>0.28</td>\n",
              "      <td>2.5</td>\n",
              "      <td>0.028</td>\n",
              "      <td>22.0</td>\n",
              "      <td>98.0</td>\n",
              "      <td>0.99072</td>\n",
              "      <td>3.16</td>\n",
              "      <td>0.37</td>\n",
              "      <td>11.1</td>\n",
              "      <td>1</td>\n",
              "      <td>0</td>\n",
              "    </tr>\n",
              "    <tr>\n",
              "      <th>3740</th>\n",
              "      <td>7.0</td>\n",
              "      <td>0.15</td>\n",
              "      <td>0.28</td>\n",
              "      <td>14.7</td>\n",
              "      <td>0.051</td>\n",
              "      <td>29.0</td>\n",
              "      <td>149.0</td>\n",
              "      <td>0.99792</td>\n",
              "      <td>2.96</td>\n",
              "      <td>0.39</td>\n",
              "      <td>9.0</td>\n",
              "      <td>1</td>\n",
              "      <td>0</td>\n",
              "    </tr>\n",
              "    <tr>\n",
              "      <th>1359</th>\n",
              "      <td>6.5</td>\n",
              "      <td>0.19</td>\n",
              "      <td>0.32</td>\n",
              "      <td>1.4</td>\n",
              "      <td>0.040</td>\n",
              "      <td>31.0</td>\n",
              "      <td>132.0</td>\n",
              "      <td>0.99220</td>\n",
              "      <td>3.36</td>\n",
              "      <td>0.54</td>\n",
              "      <td>10.8</td>\n",
              "      <td>1</td>\n",
              "      <td>0</td>\n",
              "    </tr>\n",
              "    <tr>\n",
              "      <th>1230</th>\n",
              "      <td>7.3</td>\n",
              "      <td>0.29</td>\n",
              "      <td>0.30</td>\n",
              "      <td>13.0</td>\n",
              "      <td>0.043</td>\n",
              "      <td>46.0</td>\n",
              "      <td>238.0</td>\n",
              "      <td>0.99860</td>\n",
              "      <td>3.06</td>\n",
              "      <td>0.41</td>\n",
              "      <td>8.7</td>\n",
              "      <td>1</td>\n",
              "      <td>0</td>\n",
              "    </tr>\n",
              "    <tr>\n",
              "      <th>4751</th>\n",
              "      <td>7.3</td>\n",
              "      <td>0.36</td>\n",
              "      <td>0.62</td>\n",
              "      <td>7.1</td>\n",
              "      <td>0.033</td>\n",
              "      <td>48.0</td>\n",
              "      <td>185.0</td>\n",
              "      <td>0.99472</td>\n",
              "      <td>3.14</td>\n",
              "      <td>0.62</td>\n",
              "      <td>10.6</td>\n",
              "      <td>1</td>\n",
              "      <td>0</td>\n",
              "    </tr>\n",
              "    <tr>\n",
              "      <th>...</th>\n",
              "      <td>...</td>\n",
              "      <td>...</td>\n",
              "      <td>...</td>\n",
              "      <td>...</td>\n",
              "      <td>...</td>\n",
              "      <td>...</td>\n",
              "      <td>...</td>\n",
              "      <td>...</td>\n",
              "      <td>...</td>\n",
              "      <td>...</td>\n",
              "      <td>...</td>\n",
              "      <td>...</td>\n",
              "      <td>...</td>\n",
              "    </tr>\n",
              "    <tr>\n",
              "      <th>3772</th>\n",
              "      <td>6.3</td>\n",
              "      <td>0.24</td>\n",
              "      <td>0.29</td>\n",
              "      <td>13.7</td>\n",
              "      <td>0.035</td>\n",
              "      <td>53.0</td>\n",
              "      <td>134.0</td>\n",
              "      <td>0.99567</td>\n",
              "      <td>3.17</td>\n",
              "      <td>0.38</td>\n",
              "      <td>10.6</td>\n",
              "      <td>1</td>\n",
              "      <td>0</td>\n",
              "    </tr>\n",
              "    <tr>\n",
              "      <th>5191</th>\n",
              "      <td>6.9</td>\n",
              "      <td>0.36</td>\n",
              "      <td>0.25</td>\n",
              "      <td>2.4</td>\n",
              "      <td>0.098</td>\n",
              "      <td>5.0</td>\n",
              "      <td>16.0</td>\n",
              "      <td>0.99640</td>\n",
              "      <td>3.41</td>\n",
              "      <td>0.60</td>\n",
              "      <td>10.1</td>\n",
              "      <td>0</td>\n",
              "      <td>1</td>\n",
              "    </tr>\n",
              "    <tr>\n",
              "      <th>5226</th>\n",
              "      <td>13.4</td>\n",
              "      <td>0.27</td>\n",
              "      <td>0.62</td>\n",
              "      <td>2.6</td>\n",
              "      <td>0.082</td>\n",
              "      <td>6.0</td>\n",
              "      <td>21.0</td>\n",
              "      <td>1.00020</td>\n",
              "      <td>3.16</td>\n",
              "      <td>0.67</td>\n",
              "      <td>9.7</td>\n",
              "      <td>0</td>\n",
              "      <td>1</td>\n",
              "    </tr>\n",
              "    <tr>\n",
              "      <th>5390</th>\n",
              "      <td>8.9</td>\n",
              "      <td>0.40</td>\n",
              "      <td>0.51</td>\n",
              "      <td>2.6</td>\n",
              "      <td>0.052</td>\n",
              "      <td>13.0</td>\n",
              "      <td>27.0</td>\n",
              "      <td>0.99500</td>\n",
              "      <td>3.32</td>\n",
              "      <td>0.90</td>\n",
              "      <td>13.4</td>\n",
              "      <td>0</td>\n",
              "      <td>1</td>\n",
              "    </tr>\n",
              "    <tr>\n",
              "      <th>860</th>\n",
              "      <td>8.1</td>\n",
              "      <td>0.27</td>\n",
              "      <td>0.35</td>\n",
              "      <td>1.7</td>\n",
              "      <td>0.030</td>\n",
              "      <td>38.0</td>\n",
              "      <td>103.0</td>\n",
              "      <td>0.99255</td>\n",
              "      <td>3.22</td>\n",
              "      <td>0.63</td>\n",
              "      <td>10.4</td>\n",
              "      <td>1</td>\n",
              "      <td>0</td>\n",
              "    </tr>\n",
              "  </tbody>\n",
              "</table>\n",
              "<p>4547 rows × 13 columns</p>\n",
              "</div>"
            ],
            "text/plain": [
              "      fixed acidity  volatile acidity  citric acid  ...  alcohol  typewhite  typered\n",
              "3761            6.1              0.17         0.28  ...     11.1          1        0\n",
              "3740            7.0              0.15         0.28  ...      9.0          1        0\n",
              "1359            6.5              0.19         0.32  ...     10.8          1        0\n",
              "1230            7.3              0.29         0.30  ...      8.7          1        0\n",
              "4751            7.3              0.36         0.62  ...     10.6          1        0\n",
              "...             ...               ...          ...  ...      ...        ...      ...\n",
              "3772            6.3              0.24         0.29  ...     10.6          1        0\n",
              "5191            6.9              0.36         0.25  ...     10.1          0        1\n",
              "5226           13.4              0.27         0.62  ...      9.7          0        1\n",
              "5390            8.9              0.40         0.51  ...     13.4          0        1\n",
              "860             8.1              0.27         0.35  ...     10.4          1        0\n",
              "\n",
              "[4547 rows x 13 columns]"
            ]
          },
          "metadata": {
            "tags": []
          },
          "execution_count": 85
        }
      ]
    },
    {
      "cell_type": "code",
      "metadata": {
        "id": "RCnm74roTsap",
        "colab_type": "code",
        "colab": {}
      },
      "source": [
        "from sklearn.preprocessing import StandardScaler\n",
        "scaler = StandardScaler()\n",
        "\n",
        "X_train=scaler.fit_transform(X_train)\n",
        "dfwine.iloc[:,:-1]=scaler.transform(dfwine.iloc[:,:-1])"
      ],
      "execution_count": 0,
      "outputs": []
    },
    {
      "cell_type": "code",
      "metadata": {
        "id": "AYPTA7E5vSg8",
        "colab_type": "code",
        "colab": {}
      },
      "source": [
        "#其实我没搞懂他到底想让我们干什么\n",
        "#pca找outliner我可以理解 其他的咋做呢？\n",
        "#不会真的是说， 去除变量之间的相关性吧。。。\n",
        "\n",
        "#we need transform before doing \n",
        "X_train1=X_train.copy()\n",
        "#y_train1=scaler.fit_transform(y_train.values.reshape(-1,1))\n",
        "#X_train1['target']=y_train1"
      ],
      "execution_count": 0,
      "outputs": []
    },
    {
      "cell_type": "code",
      "metadata": {
        "id": "Qr6oL89O8kVy",
        "colab_type": "code",
        "colab": {}
      },
      "source": [
        "labels=set(y_train)"
      ],
      "execution_count": 0,
      "outputs": []
    },
    {
      "cell_type": "markdown",
      "metadata": {
        "id": "Z2gyAPAGTnld",
        "colab_type": "text"
      },
      "source": [
        ""
      ]
    },
    {
      "cell_type": "code",
      "metadata": {
        "id": "Ilz3Q0-or970",
        "colab_type": "code",
        "colab": {}
      },
      "source": [
        "from sklearn.decomposition import PCA\n",
        "pca = PCA(n_components=3)\n",
        "X1=pca.fit_transform(X_train1)"
      ],
      "execution_count": 0,
      "outputs": []
    },
    {
      "cell_type": "code",
      "metadata": {
        "id": "7xjOJ37d-y3r",
        "colab_type": "code",
        "outputId": "74edd9e3-8914-4011-800d-091140a2a354",
        "colab": {
          "base_uri": "https://localhost:8080/"
        }
      },
      "source": [
        "from mpl_toolkits.mplot3d import Axes3D\n",
        "dict1={8:'green',9:'green',3:'blue',4:'blue',5:'red',6:'red',7:'green'}\n",
        "Xnew=pd.DataFrame(X1)\n",
        "Xnew['y']=y_train\n",
        "Xnew['y']=Xnew['y'].map(dict1)\n",
        "fig = plt.figure()\n",
        "ax = Axes3D(fig)\n",
        "for i in range(X1.shape[0]):\n",
        "  ax.scatter(X1[i,0],X1[i,1],X1[i,2],c=Xnew.iloc[i,3])\n",
        "plt.show()"
      ],
      "execution_count": 0,
      "outputs": [
        {
          "output_type": "stream",
          "text": [
            "<string>:6: UserWarning: Warning: converting a masked element to nan.\n",
            "/usr/local/lib/python3.6/dist-packages/numpy/core/_asarray.py:85: UserWarning: Warning: converting a masked element to nan.\n",
            "  return array(a, dtype, copy=False, order=order)\n"
          ],
          "name": "stderr"
        },
        {
          "output_type": "display_data",
          "data": {
            "image/png": "[encoded data removed]",
            "text/plain": [
              "<Figure size 432x288 with 1 Axes>"
            ]
          },
          "metadata": {
            "tags": []
          }
        }
      ]
    },
    {
      "cell_type": "code",
      "metadata": {
        "id": "m-4XH15bwJHY",
        "colab_type": "code",
        "outputId": "85011dde-5e60-42d8-c2b4-f02858e54075",
        "colab": {
          "base_uri": "https://localhost:8080/"
        }
      },
      "source": [
        "pca.explained_variance_ratio_"
      ],
      "execution_count": 0,
      "outputs": [
        {
          "output_type": "execute_result",
          "data": {
            "text/plain": [
              "array([0.36297216, 0.19539522, 0.1195773 ])"
            ]
          },
          "metadata": {
            "tags": []
          },
          "execution_count": 91
        }
      ]
    },
    {
      "cell_type": "code",
      "metadata": {
        "id": "AdVvoKcj07a_",
        "colab_type": "code",
        "outputId": "b434d844-381b-46b6-c92c-22a117d5cc8b",
        "colab": {
          "base_uri": "https://localhost:8080/"
        }
      },
      "source": [
        "pca.singular_values_"
      ],
      "execution_count": 0,
      "outputs": [
        {
          "output_type": "execute_result",
          "data": {
            "text/plain": [
              "array([146.47746394, 107.47095813,  84.07338255])"
            ]
          },
          "metadata": {
            "tags": []
          },
          "execution_count": 92
        }
      ]
    },
    {
      "cell_type": "code",
      "metadata": {
        "id": "p2d2Bf7M1Hqy",
        "colab_type": "code",
        "outputId": "063cb608-ef27-4313-81d3-f75e379bdbdd",
        "colab": {
          "base_uri": "https://localhost:8080/"
        }
      },
      "source": [
        "pca.get_covariance()"
      ],
      "execution_count": 0,
      "outputs": [
        {
          "output_type": "execute_result",
          "data": {
            "text/plain": [
              "array([[ 1.03691448,  0.19664088,  0.31310127, -0.08556603,  0.39618409,\n",
              "        -0.27873276, -0.32263884,  0.37690755, -0.17823522,  0.36677701,\n",
              "        -0.13273869, -0.45769656,  0.45769656],\n",
              "       [ 0.19664088,  0.9581284 , -0.31395287, -0.2172027 ,  0.37625792,\n",
              "        -0.34938773, -0.45457735,  0.28052348,  0.35349525,  0.32362334,\n",
              "        -0.09430708, -0.62342056,  0.62342056],\n",
              "       [ 0.31310127, -0.31395287,  0.93697717,  0.14283229, -0.01202876,\n",
              "         0.09904484,  0.15749554,  0.07298317, -0.44990237,  0.00502482,\n",
              "        -0.04421201,  0.18634999, -0.18634999],\n",
              "       [-0.08556603, -0.2172027 ,  0.14283229,  0.9964256 , -0.05536057,\n",
              "         0.46538946,  0.54376547,  0.37385826, -0.22694177, -0.16209606,\n",
              "        -0.46831967,  0.33960821, -0.33960821],\n",
              "       [ 0.39618409,  0.37625792, -0.01202876, -0.05536057,  0.82407417,\n",
              "        -0.25012096, -0.31885901,  0.42502623,  0.08318978,  0.33783685,\n",
              "        -0.215095  , -0.52672783,  0.52672783],\n",
              "       [-0.27873276, -0.34938773,  0.09904484,  0.46538946, -0.25012096,\n",
              "         0.89977399,  0.57437534,  0.06508336, -0.2020196 , -0.29756406,\n",
              "        -0.24600767,  0.52422911, -0.52422911],\n",
              "       [-0.32263884, -0.45457735,  0.15749554,  0.54376547, -0.31885901,\n",
              "         0.57437534,  1.10971292,  0.04352655, -0.27430517, -0.36532592,\n",
              "        -0.26383744,  0.65445299, -0.65445299],\n",
              "       [ 0.37690755,  0.28052348,  0.07298317,  0.37385826,  0.42502623,\n",
              "         0.06508336,  0.04352655,  1.19263049, -0.05865039,  0.2644882 ,\n",
              "        -0.60583406, -0.3541877 ,  0.3541877 ],\n",
              "       [-0.17823522,  0.35349525, -0.44990237, -0.22694177,  0.08318978,\n",
              "        -0.2020196 , -0.27430517, -0.05865039,  0.8389028 ,  0.07747244,\n",
              "         0.08475901, -0.29454101,  0.29454101],\n",
              "       [ 0.36677701,  0.32362334,  0.00502482, -0.16209606,  0.33783685,\n",
              "        -0.29756406, -0.36532592,  0.2644882 ,  0.07747244,  0.72791012,\n",
              "        -0.07147544, -0.48401621,  0.48401621],\n",
              "       [-0.13273869, -0.09430708, -0.04421201, -0.46831967, -0.215095  ,\n",
              "        -0.24600767, -0.26383744, -0.60583406,  0.08475901, -0.07147544,\n",
              "         0.97834021,  0.06157344, -0.06157344],\n",
              "       [-0.45769656, -0.62342056,  0.18634999,  0.33960821, -0.52672783,\n",
              "         0.52422911,  0.65445299, -0.3541877 , -0.29454101, -0.48401621,\n",
              "         0.06157344,  1.25153465, -0.83277063],\n",
              "       [ 0.45769656,  0.62342056, -0.18634999, -0.33960821,  0.52672783,\n",
              "        -0.52422911, -0.65445299,  0.3541877 ,  0.29454101,  0.48401621,\n",
              "        -0.06157344, -0.83277063,  1.25153465]])"
            ]
          },
          "metadata": {
            "tags": []
          },
          "execution_count": 93
        }
      ]
    },
    {
      "cell_type": "code",
      "metadata": {
        "id": "4rwNuxWXU4oG",
        "colab_type": "code",
        "outputId": "c36c0cb5-da15-4dcd-f2ee-b63295c4a6b7",
        "colab": {
          "base_uri": "https://localhost:8080/"
        }
      },
      "source": [
        "dfwine"
      ],
      "execution_count": 0,
      "outputs": [
        {
          "output_type": "execute_result",
          "data": {
            "text/html": [
              "<div>\n",
              "<style scoped>\n",
              "    .dataframe tbody tr th:only-of-type {\n",
              "        vertical-align: middle;\n",
              "    }\n",
              "\n",
              "    .dataframe tbody tr th {\n",
              "        vertical-align: top;\n",
              "    }\n",
              "\n",
              "    .dataframe thead th {\n",
              "        text-align: right;\n",
              "    }\n",
              "</style>\n",
              "<table border=\"1\" class=\"dataframe\">\n",
              "  <thead>\n",
              "    <tr style=\"text-align: right;\">\n",
              "      <th></th>\n",
              "      <th>fixed acidity</th>\n",
              "      <th>volatile acidity</th>\n",
              "      <th>citric acid</th>\n",
              "      <th>residual sugar</th>\n",
              "      <th>chlorides</th>\n",
              "      <th>free sulfur dioxide</th>\n",
              "      <th>total sulfur dioxide</th>\n",
              "      <th>density</th>\n",
              "      <th>pH</th>\n",
              "      <th>sulphates</th>\n",
              "      <th>alcohol</th>\n",
              "      <th>typewhite</th>\n",
              "      <th>typered</th>\n",
              "      <th>target</th>\n",
              "    </tr>\n",
              "  </thead>\n",
              "  <tbody>\n",
              "    <tr>\n",
              "      <th>0</th>\n",
              "      <td>-0.170435</td>\n",
              "      <td>-0.424794</td>\n",
              "      <td>0.277011</td>\n",
              "      <td>3.237650</td>\n",
              "      <td>-0.319553</td>\n",
              "      <td>0.835395</td>\n",
              "      <td>0.973647</td>\n",
              "      <td>2.134906</td>\n",
              "      <td>-1.360815</td>\n",
              "      <td>-0.550722</td>\n",
              "      <td>-1.423557</td>\n",
              "      <td>0.572356</td>\n",
              "      <td>-0.572356</td>\n",
              "      <td>6</td>\n",
              "    </tr>\n",
              "    <tr>\n",
              "      <th>1</th>\n",
              "      <td>-0.707676</td>\n",
              "      <td>-0.244379</td>\n",
              "      <td>0.139857</td>\n",
              "      <td>-0.810162</td>\n",
              "      <td>-0.204102</td>\n",
              "      <td>-0.941030</td>\n",
              "      <td>0.297035</td>\n",
              "      <td>-0.231174</td>\n",
              "      <td>0.502637</td>\n",
              "      <td>-0.287096</td>\n",
              "      <td>-0.837827</td>\n",
              "      <td>0.572356</td>\n",
              "      <td>-0.572356</td>\n",
              "      <td>6</td>\n",
              "    </tr>\n",
              "    <tr>\n",
              "      <th>2</th>\n",
              "      <td>0.673800</td>\n",
              "      <td>-0.364656</td>\n",
              "      <td>0.551319</td>\n",
              "      <td>0.313053</td>\n",
              "      <td>-0.175239</td>\n",
              "      <td>-0.024165</td>\n",
              "      <td>-0.326161</td>\n",
              "      <td>0.140639</td>\n",
              "      <td>0.254176</td>\n",
              "      <td>-0.616628</td>\n",
              "      <td>-0.335773</td>\n",
              "      <td>0.572356</td>\n",
              "      <td>-0.572356</td>\n",
              "      <td>6</td>\n",
              "    </tr>\n",
              "    <tr>\n",
              "      <th>3</th>\n",
              "      <td>-0.016938</td>\n",
              "      <td>-0.665347</td>\n",
              "      <td>0.002703</td>\n",
              "      <td>0.652137</td>\n",
              "      <td>0.055662</td>\n",
              "      <td>0.950003</td>\n",
              "      <td>1.258536</td>\n",
              "      <td>0.309644</td>\n",
              "      <td>-0.180629</td>\n",
              "      <td>-0.880254</td>\n",
              "      <td>-0.503124</td>\n",
              "      <td>0.572356</td>\n",
              "      <td>-0.572356</td>\n",
              "      <td>6</td>\n",
              "    </tr>\n",
              "    <tr>\n",
              "      <th>4</th>\n",
              "      <td>-0.016938</td>\n",
              "      <td>-0.665347</td>\n",
              "      <td>0.002703</td>\n",
              "      <td>0.652137</td>\n",
              "      <td>0.055662</td>\n",
              "      <td>0.950003</td>\n",
              "      <td>1.258536</td>\n",
              "      <td>0.309644</td>\n",
              "      <td>-0.180629</td>\n",
              "      <td>-0.880254</td>\n",
              "      <td>-0.503124</td>\n",
              "      <td>0.572356</td>\n",
              "      <td>-0.572356</td>\n",
              "      <td>6</td>\n",
              "    </tr>\n",
              "    <tr>\n",
              "      <th>...</th>\n",
              "      <td>...</td>\n",
              "      <td>...</td>\n",
              "      <td>...</td>\n",
              "      <td>...</td>\n",
              "      <td>...</td>\n",
              "      <td>...</td>\n",
              "      <td>...</td>\n",
              "      <td>...</td>\n",
              "      <td>...</td>\n",
              "      <td>...</td>\n",
              "      <td>...</td>\n",
              "      <td>...</td>\n",
              "      <td>...</td>\n",
              "      <td>...</td>\n",
              "    </tr>\n",
              "    <tr>\n",
              "      <th>6492</th>\n",
              "      <td>-0.784424</td>\n",
              "      <td>1.559768</td>\n",
              "      <td>-1.643144</td>\n",
              "      <td>-0.725391</td>\n",
              "      <td>0.979268</td>\n",
              "      <td>0.090443</td>\n",
              "      <td>-1.269857</td>\n",
              "      <td>0.073036</td>\n",
              "      <td>1.434362</td>\n",
              "      <td>0.306062</td>\n",
              "      <td>-0.001070</td>\n",
              "      <td>-1.747165</td>\n",
              "      <td>1.747165</td>\n",
              "      <td>5</td>\n",
              "    </tr>\n",
              "    <tr>\n",
              "      <th>6493</th>\n",
              "      <td>-1.014670</td>\n",
              "      <td>1.259077</td>\n",
              "      <td>-1.505990</td>\n",
              "      <td>-0.683005</td>\n",
              "      <td>0.171113</td>\n",
              "      <td>0.491571</td>\n",
              "      <td>-1.145218</td>\n",
              "      <td>0.147399</td>\n",
              "      <td>1.869168</td>\n",
              "      <td>-0.015461</td>\n",
              "      <td>0.584660</td>\n",
              "      <td>-1.747165</td>\n",
              "      <td>1.747165</td>\n",
              "      <td>6</td>\n",
              "    </tr>\n",
              "    <tr>\n",
              "      <th>6494</th>\n",
              "      <td>-0.707676</td>\n",
              "      <td>1.018524</td>\n",
              "      <td>-1.300259</td>\n",
              "      <td>-0.661813</td>\n",
              "      <td>0.575191</td>\n",
              "      <td>-0.081470</td>\n",
              "      <td>-1.341079</td>\n",
              "      <td>0.356966</td>\n",
              "      <td>1.248017</td>\n",
              "      <td>1.426472</td>\n",
              "      <td>0.417309</td>\n",
              "      <td>-1.747165</td>\n",
              "      <td>1.747165</td>\n",
              "      <td>6</td>\n",
              "    </tr>\n",
              "    <tr>\n",
              "      <th>6495</th>\n",
              "      <td>-1.014670</td>\n",
              "      <td>1.830390</td>\n",
              "      <td>-1.368836</td>\n",
              "      <td>-0.725391</td>\n",
              "      <td>0.546328</td>\n",
              "      <td>0.090443</td>\n",
              "      <td>-1.269857</td>\n",
              "      <td>0.265703</td>\n",
              "      <td>2.179743</td>\n",
              "      <td>1.162846</td>\n",
              "      <td>-0.252097</td>\n",
              "      <td>-1.747165</td>\n",
              "      <td>1.747165</td>\n",
              "      <td>5</td>\n",
              "    </tr>\n",
              "    <tr>\n",
              "      <th>6496</th>\n",
              "      <td>-0.937922</td>\n",
              "      <td>-0.184241</td>\n",
              "      <td>1.031358</td>\n",
              "      <td>-0.386307</td>\n",
              "      <td>0.315426</td>\n",
              "      <td>-0.711814</td>\n",
              "      <td>-1.305468</td>\n",
              "      <td>0.272463</td>\n",
              "      <td>1.061672</td>\n",
              "      <td>0.833314</td>\n",
              "      <td>0.417309</td>\n",
              "      <td>-1.747165</td>\n",
              "      <td>1.747165</td>\n",
              "      <td>6</td>\n",
              "    </tr>\n",
              "  </tbody>\n",
              "</table>\n",
              "<p>6497 rows × 14 columns</p>\n",
              "</div>"
            ],
            "text/plain": [
              "      fixed acidity  volatile acidity  citric acid  ...  typewhite   typered  target\n",
              "0         -0.170435         -0.424794     0.277011  ...   0.572356 -0.572356       6\n",
              "1         -0.707676         -0.244379     0.139857  ...   0.572356 -0.572356       6\n",
              "2          0.673800         -0.364656     0.551319  ...   0.572356 -0.572356       6\n",
              "3         -0.016938         -0.665347     0.002703  ...   0.572356 -0.572356       6\n",
              "4         -0.016938         -0.665347     0.002703  ...   0.572356 -0.572356       6\n",
              "...             ...               ...          ...  ...        ...       ...     ...\n",
              "6492      -0.784424          1.559768    -1.643144  ...  -1.747165  1.747165       5\n",
              "6493      -1.014670          1.259077    -1.505990  ...  -1.747165  1.747165       6\n",
              "6494      -0.707676          1.018524    -1.300259  ...  -1.747165  1.747165       6\n",
              "6495      -1.014670          1.830390    -1.368836  ...  -1.747165  1.747165       5\n",
              "6496      -0.937922         -0.184241     1.031358  ...  -1.747165  1.747165       6\n",
              "\n",
              "[6497 rows x 14 columns]"
            ]
          },
          "metadata": {
            "tags": []
          },
          "execution_count": 94
        }
      ]
    },
    {
      "cell_type": "code",
      "metadata": {
        "id": "XrIynuRG2ARV",
        "colab_type": "code",
        "outputId": "3d0b9fd0-71d8-46cf-af54-3658bddd0037",
        "colab": {
          "base_uri": "https://localhost:8080/"
        }
      },
      "source": [
        "#reconstruction and find the outliner \n",
        "X11=pca.transform(dfwine.iloc[:,:-1])\n",
        "\n",
        "\n",
        "\n",
        "X_re = X11.dot(pca.components_) + pca.mean_\n",
        "X_re"
      ],
      "execution_count": 0,
      "outputs": [
        {
          "output_type": "execute_result",
          "data": {
            "text/plain": [
              "array([[ 0.10993516, -0.42058379,  0.53373231, ..., -1.94088941,\n",
              "         0.70797235, -0.70797235],\n",
              "       [-0.4023737 , -0.09034327, -0.24133101, ...,  0.19763099,\n",
              "         0.24067567, -0.24067567],\n",
              "       [ 0.17225308, -0.32149739,  0.41618405, ..., -0.05669952,\n",
              "         0.25984036, -0.25984036],\n",
              "       ...,\n",
              "       [-0.14569399,  1.46186631, -1.38886639, ...,  0.03129921,\n",
              "        -1.43141463,  1.43141463],\n",
              "       [-0.57044575,  1.80896172, -2.01031747, ..., -0.21317506,\n",
              "        -1.55226337,  1.55226337],\n",
              "       [ 0.49544539,  0.73433789, -0.2693039 , ...,  0.30583465,\n",
              "        -1.02520987,  1.02520987]])"
            ]
          },
          "metadata": {
            "tags": []
          },
          "execution_count": 95
        }
      ]
    },
    {
      "cell_type": "code",
      "metadata": {
        "id": "H0y8IvR76lZn",
        "colab_type": "code",
        "colab": {}
      },
      "source": [
        "Xerro=abs(dfwine.iloc[:,:-1].values-X_re)\n",
        "erro=np.mean(Xerro, axis=1)"
      ],
      "execution_count": 0,
      "outputs": []
    },
    {
      "cell_type": "code",
      "metadata": {
        "id": "C8EUTzCRKdkU",
        "colab_type": "code",
        "colab": {}
      },
      "source": [
        "dfwine['erro']=erro"
      ],
      "execution_count": 0,
      "outputs": []
    },
    {
      "cell_type": "code",
      "metadata": {
        "id": "rXBCteK_8G4I",
        "colab_type": "code",
        "outputId": "9532fe8d-e319-4660-bfaf-21d3acc96bc9",
        "colab": {
          "base_uri": "https://localhost:8080/"
        }
      },
      "source": [
        "plt.hist(dfwine.sort_values(by='erro')['erro'])\n",
        "plt.xlabel('erro')\n",
        "plt.ylabel('number')\n",
        "plt.title(\"erro distribution\")"
      ],
      "execution_count": 0,
      "outputs": [
        {
          "output_type": "execute_result",
          "data": {
            "text/plain": [
              "Text(0.5, 1.0, 'erro distribution')"
            ]
          },
          "metadata": {
            "tags": []
          },
          "execution_count": 98
        },
        {
          "output_type": "display_data",
          "data": {
            "image/png": "[encoded data removed]",
            "text/plain": [
              "<Figure size 432x288 with 1 Axes>"
            ]
          },
          "metadata": {
            "tags": []
          }
        }
      ]
    },
    {
      "cell_type": "markdown",
      "metadata": {
        "id": "5vNEPajC8_t7",
        "colab_type": "text"
      },
      "source": [
        "as seen above we treat the samples whose erro> 1 as outliners."
      ]
    },
    {
      "cell_type": "code",
      "metadata": {
        "id": "r5WM2HpN8gxY",
        "colab_type": "code",
        "outputId": "e353ac31-49b8-4e20-c991-4b9678d04b63",
        "colab": {
          "base_uri": "https://localhost:8080/"
        }
      },
      "source": [
        "dfwine.sort_values(by='erro').loc[dfwine.sort_values(by='erro')['erro']>1]"
      ],
      "execution_count": 0,
      "outputs": [
        {
          "output_type": "execute_result",
          "data": {
            "text/html": [
              "<div>\n",
              "<style scoped>\n",
              "    .dataframe tbody tr th:only-of-type {\n",
              "        vertical-align: middle;\n",
              "    }\n",
              "\n",
              "    .dataframe tbody tr th {\n",
              "        vertical-align: top;\n",
              "    }\n",
              "\n",
              "    .dataframe thead th {\n",
              "        text-align: right;\n",
              "    }\n",
              "</style>\n",
              "<table border=\"1\" class=\"dataframe\">\n",
              "  <thead>\n",
              "    <tr style=\"text-align: right;\">\n",
              "      <th></th>\n",
              "      <th>fixed acidity</th>\n",
              "      <th>volatile acidity</th>\n",
              "      <th>citric acid</th>\n",
              "      <th>residual sugar</th>\n",
              "      <th>chlorides</th>\n",
              "      <th>free sulfur dioxide</th>\n",
              "      <th>total sulfur dioxide</th>\n",
              "      <th>density</th>\n",
              "      <th>pH</th>\n",
              "      <th>sulphates</th>\n",
              "      <th>alcohol</th>\n",
              "      <th>typewhite</th>\n",
              "      <th>typered</th>\n",
              "      <th>target</th>\n",
              "      <th>erro</th>\n",
              "    </tr>\n",
              "  </thead>\n",
              "  <tbody>\n",
              "    <tr>\n",
              "      <th>5079</th>\n",
              "      <td>1.287789</td>\n",
              "      <td>1.619906</td>\n",
              "      <td>1.168512</td>\n",
              "      <td>-0.725391</td>\n",
              "      <td>6.174554</td>\n",
              "      <td>-0.425294</td>\n",
              "      <td>-0.094688</td>\n",
              "      <td>0.850462</td>\n",
              "      <td>-0.615434</td>\n",
              "      <td>3.205947</td>\n",
              "      <td>-1.005179</td>\n",
              "      <td>-1.747165</td>\n",
              "      <td>1.747165</td>\n",
              "      <td>5</td>\n",
              "      <td>1.006526</td>\n",
              "    </tr>\n",
              "    <tr>\n",
              "      <th>5138</th>\n",
              "      <td>1.287789</td>\n",
              "      <td>1.770252</td>\n",
              "      <td>0.345588</td>\n",
              "      <td>-0.788969</td>\n",
              "      <td>5.972515</td>\n",
              "      <td>-1.456767</td>\n",
              "      <td>-0.949356</td>\n",
              "      <td>0.816661</td>\n",
              "      <td>-1.360815</td>\n",
              "      <td>3.667292</td>\n",
              "      <td>-1.005179</td>\n",
              "      <td>-1.747165</td>\n",
              "      <td>1.747165</td>\n",
              "      <td>5</td>\n",
              "      <td>1.013516</td>\n",
              "    </tr>\n",
              "    <tr>\n",
              "      <th>5550</th>\n",
              "      <td>6.660194</td>\n",
              "      <td>0.116450</td>\n",
              "      <td>2.265744</td>\n",
              "      <td>0.440209</td>\n",
              "      <td>1.152445</td>\n",
              "      <td>-0.482598</td>\n",
              "      <td>-0.789106</td>\n",
              "      <td>0.985667</td>\n",
              "      <td>-1.485045</td>\n",
              "      <td>2.019630</td>\n",
              "      <td>3.680663</td>\n",
              "      <td>-1.747165</td>\n",
              "      <td>1.747165</td>\n",
              "      <td>5</td>\n",
              "      <td>1.019708</td>\n",
              "    </tr>\n",
              "    <tr>\n",
              "      <th>3307</th>\n",
              "      <td>1.671532</td>\n",
              "      <td>-0.605209</td>\n",
              "      <td>-0.203027</td>\n",
              "      <td>0.652137</td>\n",
              "      <td>-0.550454</td>\n",
              "      <td>5.362415</td>\n",
              "      <td>1.650259</td>\n",
              "      <td>-0.248074</td>\n",
              "      <td>-1.981965</td>\n",
              "      <td>-1.012067</td>\n",
              "      <td>0.417309</td>\n",
              "      <td>0.572356</td>\n",
              "      <td>-0.572356</td>\n",
              "      <td>3</td>\n",
              "      <td>1.021084</td>\n",
              "    </tr>\n",
              "    <tr>\n",
              "      <th>2668</th>\n",
              "      <td>1.825030</td>\n",
              "      <td>1.890528</td>\n",
              "      <td>-0.751643</td>\n",
              "      <td>-0.725391</td>\n",
              "      <td>-0.492729</td>\n",
              "      <td>-0.539902</td>\n",
              "      <td>0.083367</td>\n",
              "      <td>-0.947758</td>\n",
              "      <td>-1.360815</td>\n",
              "      <td>3.074134</td>\n",
              "      <td>1.756121</td>\n",
              "      <td>0.572356</td>\n",
              "      <td>-0.572356</td>\n",
              "      <td>6</td>\n",
              "      <td>1.030181</td>\n",
              "    </tr>\n",
              "    <tr>\n",
              "      <th>1551</th>\n",
              "      <td>-0.477430</td>\n",
              "      <td>-0.905900</td>\n",
              "      <td>4.597362</td>\n",
              "      <td>-0.894933</td>\n",
              "      <td>1.902875</td>\n",
              "      <td>0.835395</td>\n",
              "      <td>0.243618</td>\n",
              "      <td>-0.366378</td>\n",
              "      <td>-0.801779</td>\n",
              "      <td>-1.473412</td>\n",
              "      <td>-1.507233</td>\n",
              "      <td>0.572356</td>\n",
              "      <td>-0.572356</td>\n",
              "      <td>6</td>\n",
              "      <td>1.035622</td>\n",
              "    </tr>\n",
              "    <tr>\n",
              "      <th>1722</th>\n",
              "      <td>0.213308</td>\n",
              "      <td>0.357003</td>\n",
              "      <td>4.665939</td>\n",
              "      <td>2.983337</td>\n",
              "      <td>-0.435004</td>\n",
              "      <td>0.147747</td>\n",
              "      <td>0.581924</td>\n",
              "      <td>1.019468</td>\n",
              "      <td>0.129946</td>\n",
              "      <td>-1.012067</td>\n",
              "      <td>1.254066</td>\n",
              "      <td>0.572356</td>\n",
              "      <td>-0.572356</td>\n",
              "      <td>6</td>\n",
              "      <td>1.065436</td>\n",
              "    </tr>\n",
              "    <tr>\n",
              "      <th>4473</th>\n",
              "      <td>-0.093687</td>\n",
              "      <td>0.116450</td>\n",
              "      <td>-0.820220</td>\n",
              "      <td>-0.810162</td>\n",
              "      <td>6.203416</td>\n",
              "      <td>-0.367990</td>\n",
              "      <td>0.439479</td>\n",
              "      <td>-0.379899</td>\n",
              "      <td>-0.677549</td>\n",
              "      <td>0.635595</td>\n",
              "      <td>-0.586800</td>\n",
              "      <td>0.572356</td>\n",
              "      <td>-0.572356</td>\n",
              "      <td>5</td>\n",
              "      <td>1.071926</td>\n",
              "    </tr>\n",
              "    <tr>\n",
              "      <th>6197</th>\n",
              "      <td>0.290057</td>\n",
              "      <td>7.453316</td>\n",
              "      <td>-2.191760</td>\n",
              "      <td>-0.704198</td>\n",
              "      <td>2.335815</td>\n",
              "      <td>-1.456767</td>\n",
              "      <td>-1.893052</td>\n",
              "      <td>0.025715</td>\n",
              "      <td>1.744938</td>\n",
              "      <td>-0.880254</td>\n",
              "      <td>0.333633</td>\n",
              "      <td>-1.747165</td>\n",
              "      <td>1.747165</td>\n",
              "      <td>3</td>\n",
              "      <td>1.072116</td>\n",
              "    </tr>\n",
              "    <tr>\n",
              "      <th>2872</th>\n",
              "      <td>-2.319397</td>\n",
              "      <td>-1.026177</td>\n",
              "      <td>0.277011</td>\n",
              "      <td>-0.767776</td>\n",
              "      <td>-0.781356</td>\n",
              "      <td>3.585990</td>\n",
              "      <td>0.813397</td>\n",
              "      <td>-1.586599</td>\n",
              "      <td>2.676663</td>\n",
              "      <td>2.349163</td>\n",
              "      <td>1.254066</td>\n",
              "      <td>0.572356</td>\n",
              "      <td>-0.572356</td>\n",
              "      <td>7</td>\n",
              "      <td>1.076588</td>\n",
              "    </tr>\n",
              "    <tr>\n",
              "      <th>6468</th>\n",
              "      <td>-0.630927</td>\n",
              "      <td>0.116450</td>\n",
              "      <td>1.442820</td>\n",
              "      <td>-0.683005</td>\n",
              "      <td>5.020046</td>\n",
              "      <td>-0.654510</td>\n",
              "      <td>-1.430107</td>\n",
              "      <td>-0.433981</td>\n",
              "      <td>0.937442</td>\n",
              "      <td>2.612789</td>\n",
              "      <td>1.588769</td>\n",
              "      <td>-1.747165</td>\n",
              "      <td>1.747165</td>\n",
              "      <td>6</td>\n",
              "      <td>1.079430</td>\n",
              "    </tr>\n",
              "    <tr>\n",
              "      <th>5512</th>\n",
              "      <td>1.518035</td>\n",
              "      <td>2.491911</td>\n",
              "      <td>-0.957374</td>\n",
              "      <td>-0.683005</td>\n",
              "      <td>2.653305</td>\n",
              "      <td>-1.170246</td>\n",
              "      <td>-0.219327</td>\n",
              "      <td>0.749059</td>\n",
              "      <td>-2.168310</td>\n",
              "      <td>5.446767</td>\n",
              "      <td>-0.252097</td>\n",
              "      <td>-1.747165</td>\n",
              "      <td>1.747165</td>\n",
              "      <td>6</td>\n",
              "      <td>1.101106</td>\n",
              "    </tr>\n",
              "    <tr>\n",
              "      <th>5189</th>\n",
              "      <td>2.899511</td>\n",
              "      <td>-0.845762</td>\n",
              "      <td>1.099935</td>\n",
              "      <td>-0.725391</td>\n",
              "      <td>8.281530</td>\n",
              "      <td>-1.399463</td>\n",
              "      <td>-1.732802</td>\n",
              "      <td>1.087070</td>\n",
              "      <td>0.502637</td>\n",
              "      <td>1.162846</td>\n",
              "      <td>-0.001070</td>\n",
              "      <td>-1.747165</td>\n",
              "      <td>1.747165</td>\n",
              "      <td>5</td>\n",
              "      <td>1.109227</td>\n",
              "    </tr>\n",
              "    <tr>\n",
              "      <th>1775</th>\n",
              "      <td>0.366805</td>\n",
              "      <td>0.898247</td>\n",
              "      <td>4.665939</td>\n",
              "      <td>3.004530</td>\n",
              "      <td>-0.752493</td>\n",
              "      <td>-0.138774</td>\n",
              "      <td>0.350451</td>\n",
              "      <td>0.884264</td>\n",
              "      <td>0.129946</td>\n",
              "      <td>-0.880254</td>\n",
              "      <td>1.254066</td>\n",
              "      <td>0.572356</td>\n",
              "      <td>-0.572356</td>\n",
              "      <td>6</td>\n",
              "      <td>1.110461</td>\n",
              "    </tr>\n",
              "    <tr>\n",
              "      <th>4940</th>\n",
              "      <td>0.213308</td>\n",
              "      <td>0.898247</td>\n",
              "      <td>-0.820220</td>\n",
              "      <td>-0.598234</td>\n",
              "      <td>7.964041</td>\n",
              "      <td>-1.284855</td>\n",
              "      <td>-1.804025</td>\n",
              "      <td>0.715258</td>\n",
              "      <td>-0.056399</td>\n",
              "      <td>2.415069</td>\n",
              "      <td>-0.001070</td>\n",
              "      <td>-1.747165</td>\n",
              "      <td>1.747165</td>\n",
              "      <td>6</td>\n",
              "      <td>1.117530</td>\n",
              "    </tr>\n",
              "    <tr>\n",
              "      <th>325</th>\n",
              "      <td>0.213308</td>\n",
              "      <td>-0.424794</td>\n",
              "      <td>-0.065873</td>\n",
              "      <td>0.079933</td>\n",
              "      <td>0.026799</td>\n",
              "      <td>5.763544</td>\n",
              "      <td>3.519846</td>\n",
              "      <td>-0.028367</td>\n",
              "      <td>-0.242744</td>\n",
              "      <td>0.371969</td>\n",
              "      <td>-0.001070</td>\n",
              "      <td>0.572356</td>\n",
              "      <td>-0.572356</td>\n",
              "      <td>5</td>\n",
              "      <td>1.130625</td>\n",
              "    </tr>\n",
              "    <tr>\n",
              "      <th>3050</th>\n",
              "      <td>-0.784424</td>\n",
              "      <td>-0.515002</td>\n",
              "      <td>-0.545912</td>\n",
              "      <td>-0.788969</td>\n",
              "      <td>-0.492729</td>\n",
              "      <td>6.193324</td>\n",
              "      <td>2.789816</td>\n",
              "      <td>-0.055408</td>\n",
              "      <td>1.931283</td>\n",
              "      <td>-0.023470</td>\n",
              "      <td>-0.754151</td>\n",
              "      <td>0.572356</td>\n",
              "      <td>-0.572356</td>\n",
              "      <td>4</td>\n",
              "      <td>1.135107</td>\n",
              "    </tr>\n",
              "    <tr>\n",
              "      <th>2186</th>\n",
              "      <td>-0.554178</td>\n",
              "      <td>0.296865</td>\n",
              "      <td>3.362976</td>\n",
              "      <td>-0.894933</td>\n",
              "      <td>4.644831</td>\n",
              "      <td>-0.941030</td>\n",
              "      <td>-0.735689</td>\n",
              "      <td>-0.366378</td>\n",
              "      <td>-0.863894</td>\n",
              "      <td>-0.023470</td>\n",
              "      <td>-0.837827</td>\n",
              "      <td>0.572356</td>\n",
              "      <td>-0.572356</td>\n",
              "      <td>5</td>\n",
              "      <td>1.137390</td>\n",
              "    </tr>\n",
              "    <tr>\n",
              "      <th>745</th>\n",
              "      <td>0.136559</td>\n",
              "      <td>-0.845762</td>\n",
              "      <td>9.192021</td>\n",
              "      <td>-0.704198</td>\n",
              "      <td>-0.983395</td>\n",
              "      <td>0.205051</td>\n",
              "      <td>-0.041272</td>\n",
              "      <td>-1.025501</td>\n",
              "      <td>0.254176</td>\n",
              "      <td>0.108343</td>\n",
              "      <td>1.421418</td>\n",
              "      <td>0.572356</td>\n",
              "      <td>-0.572356</td>\n",
              "      <td>6</td>\n",
              "      <td>1.152438</td>\n",
              "    </tr>\n",
              "    <tr>\n",
              "      <th>1034</th>\n",
              "      <td>0.520303</td>\n",
              "      <td>1.800321</td>\n",
              "      <td>0.962781</td>\n",
              "      <td>1.097184</td>\n",
              "      <td>5.424124</td>\n",
              "      <td>0.147747</td>\n",
              "      <td>1.988565</td>\n",
              "      <td>1.222275</td>\n",
              "      <td>-2.168310</td>\n",
              "      <td>1.360566</td>\n",
              "      <td>-1.172530</td>\n",
              "      <td>0.572356</td>\n",
              "      <td>-0.572356</td>\n",
              "      <td>3</td>\n",
              "      <td>1.163685</td>\n",
              "    </tr>\n",
              "    <tr>\n",
              "      <th>3152</th>\n",
              "      <td>0.290057</td>\n",
              "      <td>-0.545071</td>\n",
              "      <td>6.243210</td>\n",
              "      <td>-0.174380</td>\n",
              "      <td>-0.608180</td>\n",
              "      <td>1.179220</td>\n",
              "      <td>3.181539</td>\n",
              "      <td>-1.522377</td>\n",
              "      <td>-1.174470</td>\n",
              "      <td>-0.682535</td>\n",
              "      <td>2.174499</td>\n",
              "      <td>0.572356</td>\n",
              "      <td>-0.572356</td>\n",
              "      <td>6</td>\n",
              "      <td>1.187927</td>\n",
              "    </tr>\n",
              "    <tr>\n",
              "      <th>687</th>\n",
              "      <td>-0.323933</td>\n",
              "      <td>1.980736</td>\n",
              "      <td>-0.134450</td>\n",
              "      <td>1.605810</td>\n",
              "      <td>6.751808</td>\n",
              "      <td>-0.482598</td>\n",
              "      <td>1.383175</td>\n",
              "      <td>1.256076</td>\n",
              "      <td>-0.863894</td>\n",
              "      <td>0.899220</td>\n",
              "      <td>-1.256206</td>\n",
              "      <td>0.572356</td>\n",
              "      <td>-0.572356</td>\n",
              "      <td>4</td>\n",
              "      <td>1.233613</td>\n",
              "    </tr>\n",
              "    <tr>\n",
              "      <th>5628</th>\n",
              "      <td>1.748281</td>\n",
              "      <td>1.259077</td>\n",
              "      <td>2.334321</td>\n",
              "      <td>-0.661813</td>\n",
              "      <td>9.551489</td>\n",
              "      <td>-1.055638</td>\n",
              "      <td>-1.394496</td>\n",
              "      <td>1.188474</td>\n",
              "      <td>-0.304859</td>\n",
              "      <td>0.899220</td>\n",
              "      <td>-0.754151</td>\n",
              "      <td>-1.747165</td>\n",
              "      <td>1.747165</td>\n",
              "      <td>5</td>\n",
              "      <td>1.252386</td>\n",
              "    </tr>\n",
              "    <tr>\n",
              "      <th>4917</th>\n",
              "      <td>0.520303</td>\n",
              "      <td>-0.124103</td>\n",
              "      <td>1.305666</td>\n",
              "      <td>-0.767776</td>\n",
              "      <td>8.223805</td>\n",
              "      <td>-0.769118</td>\n",
              "      <td>-1.056190</td>\n",
              "      <td>0.749059</td>\n",
              "      <td>-1.112355</td>\n",
              "      <td>3.601386</td>\n",
              "      <td>-1.088854</td>\n",
              "      <td>-1.747165</td>\n",
              "      <td>1.747165</td>\n",
              "      <td>6</td>\n",
              "      <td>1.272655</td>\n",
              "    </tr>\n",
              "    <tr>\n",
              "      <th>5621</th>\n",
              "      <td>-0.093687</td>\n",
              "      <td>-0.184241</td>\n",
              "      <td>-0.134450</td>\n",
              "      <td>-0.683005</td>\n",
              "      <td>-0.088651</td>\n",
              "      <td>0.319659</td>\n",
              "      <td>0.208007</td>\n",
              "      <td>0.613854</td>\n",
              "      <td>-1.733505</td>\n",
              "      <td>7.160335</td>\n",
              "      <td>-0.837827</td>\n",
              "      <td>-1.747165</td>\n",
              "      <td>1.747165</td>\n",
              "      <td>5</td>\n",
              "      <td>1.275011</td>\n",
              "    </tr>\n",
              "    <tr>\n",
              "      <th>1931</th>\n",
              "      <td>-0.093687</td>\n",
              "      <td>0.898247</td>\n",
              "      <td>-0.683066</td>\n",
              "      <td>-0.725391</td>\n",
              "      <td>-0.261828</td>\n",
              "      <td>6.651756</td>\n",
              "      <td>3.421915</td>\n",
              "      <td>-0.771992</td>\n",
              "      <td>0.129946</td>\n",
              "      <td>-1.077974</td>\n",
              "      <td>0.417309</td>\n",
              "      <td>0.572356</td>\n",
              "      <td>-0.572356</td>\n",
              "      <td>3</td>\n",
              "      <td>1.277060</td>\n",
              "    </tr>\n",
              "    <tr>\n",
              "      <th>1217</th>\n",
              "      <td>0.597051</td>\n",
              "      <td>1.619906</td>\n",
              "      <td>0.414165</td>\n",
              "      <td>1.415075</td>\n",
              "      <td>7.069297</td>\n",
              "      <td>-0.367990</td>\n",
              "      <td>1.863926</td>\n",
              "      <td>1.560286</td>\n",
              "      <td>-1.733505</td>\n",
              "      <td>-0.353002</td>\n",
              "      <td>-1.088854</td>\n",
              "      <td>0.572356</td>\n",
              "      <td>-0.572356</td>\n",
              "      <td>5</td>\n",
              "      <td>1.312705</td>\n",
              "    </tr>\n",
              "    <tr>\n",
              "      <th>4989</th>\n",
              "      <td>1.057543</td>\n",
              "      <td>0.898247</td>\n",
              "      <td>-0.271604</td>\n",
              "      <td>-0.746584</td>\n",
              "      <td>1.556522</td>\n",
              "      <td>-0.597206</td>\n",
              "      <td>0.368257</td>\n",
              "      <td>0.850462</td>\n",
              "      <td>-1.795620</td>\n",
              "      <td>9.335249</td>\n",
              "      <td>-0.503124</td>\n",
              "      <td>-1.747165</td>\n",
              "      <td>1.747165</td>\n",
              "      <td>6</td>\n",
              "      <td>1.336652</td>\n",
              "    </tr>\n",
              "    <tr>\n",
              "      <th>4984</th>\n",
              "      <td>1.057543</td>\n",
              "      <td>0.898247</td>\n",
              "      <td>-0.271604</td>\n",
              "      <td>-0.746584</td>\n",
              "      <td>1.556522</td>\n",
              "      <td>-0.597206</td>\n",
              "      <td>0.368257</td>\n",
              "      <td>0.850462</td>\n",
              "      <td>-1.795620</td>\n",
              "      <td>9.335249</td>\n",
              "      <td>-0.503124</td>\n",
              "      <td>-1.747165</td>\n",
              "      <td>1.747165</td>\n",
              "      <td>6</td>\n",
              "      <td>1.336652</td>\n",
              "    </tr>\n",
              "    <tr>\n",
              "      <th>6063</th>\n",
              "      <td>0.980794</td>\n",
              "      <td>0.597556</td>\n",
              "      <td>1.237089</td>\n",
              "      <td>-0.746584</td>\n",
              "      <td>9.031960</td>\n",
              "      <td>-0.883726</td>\n",
              "      <td>-1.376691</td>\n",
              "      <td>0.559773</td>\n",
              "      <td>-1.298700</td>\n",
              "      <td>3.733199</td>\n",
              "      <td>-0.921503</td>\n",
              "      <td>-1.747165</td>\n",
              "      <td>1.747165</td>\n",
              "      <td>5</td>\n",
              "      <td>1.337810</td>\n",
              "    </tr>\n",
              "    <tr>\n",
              "      <th>4990</th>\n",
              "      <td>1.057543</td>\n",
              "      <td>0.898247</td>\n",
              "      <td>-0.203027</td>\n",
              "      <td>-0.725391</td>\n",
              "      <td>1.556522</td>\n",
              "      <td>-0.654510</td>\n",
              "      <td>0.314840</td>\n",
              "      <td>0.850462</td>\n",
              "      <td>-1.795620</td>\n",
              "      <td>9.532968</td>\n",
              "      <td>-0.586800</td>\n",
              "      <td>-1.747165</td>\n",
              "      <td>1.747165</td>\n",
              "      <td>5</td>\n",
              "      <td>1.348614</td>\n",
              "    </tr>\n",
              "    <tr>\n",
              "      <th>5179</th>\n",
              "      <td>0.366805</td>\n",
              "      <td>-0.424794</td>\n",
              "      <td>2.471475</td>\n",
              "      <td>-0.407500</td>\n",
              "      <td>8.714471</td>\n",
              "      <td>-1.456767</td>\n",
              "      <td>-1.875247</td>\n",
              "      <td>0.850462</td>\n",
              "      <td>0.192061</td>\n",
              "      <td>3.601386</td>\n",
              "      <td>-0.503124</td>\n",
              "      <td>-1.747165</td>\n",
              "      <td>1.747165</td>\n",
              "      <td>7</td>\n",
              "      <td>1.390798</td>\n",
              "    </tr>\n",
              "    <tr>\n",
              "      <th>484</th>\n",
              "      <td>-0.784424</td>\n",
              "      <td>0.176588</td>\n",
              "      <td>-0.134450</td>\n",
              "      <td>0.249475</td>\n",
              "      <td>8.368118</td>\n",
              "      <td>2.783733</td>\n",
              "      <td>1.507814</td>\n",
              "      <td>0.242042</td>\n",
              "      <td>0.440522</td>\n",
              "      <td>0.306062</td>\n",
              "      <td>-0.754151</td>\n",
              "      <td>0.572356</td>\n",
              "      <td>-0.572356</td>\n",
              "      <td>5</td>\n",
              "      <td>1.393433</td>\n",
              "    </tr>\n",
              "    <tr>\n",
              "      <th>5349</th>\n",
              "      <td>0.904046</td>\n",
              "      <td>0.176588</td>\n",
              "      <td>1.442820</td>\n",
              "      <td>-0.767776</td>\n",
              "      <td>10.301919</td>\n",
              "      <td>-1.227551</td>\n",
              "      <td>-1.590358</td>\n",
              "      <td>1.087070</td>\n",
              "      <td>-0.988125</td>\n",
              "      <td>3.469573</td>\n",
              "      <td>-1.172530</td>\n",
              "      <td>-1.747165</td>\n",
              "      <td>1.747165</td>\n",
              "      <td>6</td>\n",
              "      <td>1.412740</td>\n",
              "    </tr>\n",
              "    <tr>\n",
              "      <th>5652</th>\n",
              "      <td>0.443554</td>\n",
              "      <td>0.838109</td>\n",
              "      <td>2.471475</td>\n",
              "      <td>-0.788969</td>\n",
              "      <td>10.359644</td>\n",
              "      <td>-0.941030</td>\n",
              "      <td>-1.483524</td>\n",
              "      <td>0.634135</td>\n",
              "      <td>-0.801779</td>\n",
              "      <td>3.469573</td>\n",
              "      <td>-1.172530</td>\n",
              "      <td>-1.747165</td>\n",
              "      <td>1.747165</td>\n",
              "      <td>6</td>\n",
              "      <td>1.495206</td>\n",
              "    </tr>\n",
              "    <tr>\n",
              "      <th>4981</th>\n",
              "      <td>0.059811</td>\n",
              "      <td>1.980736</td>\n",
              "      <td>-0.408758</td>\n",
              "      <td>-0.767776</td>\n",
              "      <td>9.955567</td>\n",
              "      <td>-0.826422</td>\n",
              "      <td>-1.145218</td>\n",
              "      <td>0.749059</td>\n",
              "      <td>-0.366974</td>\n",
              "      <td>3.996825</td>\n",
              "      <td>-0.921503</td>\n",
              "      <td>-1.747165</td>\n",
              "      <td>1.747165</td>\n",
              "      <td>5</td>\n",
              "      <td>1.547285</td>\n",
              "    </tr>\n",
              "    <tr>\n",
              "      <th>4915</th>\n",
              "      <td>0.673800</td>\n",
              "      <td>1.319215</td>\n",
              "      <td>-0.271604</td>\n",
              "      <td>-0.788969</td>\n",
              "      <td>9.003098</td>\n",
              "      <td>-0.826422</td>\n",
              "      <td>-1.056190</td>\n",
              "      <td>0.715258</td>\n",
              "      <td>-0.677549</td>\n",
              "      <td>4.919515</td>\n",
              "      <td>-1.005179</td>\n",
              "      <td>-1.747165</td>\n",
              "      <td>1.747165</td>\n",
              "      <td>5</td>\n",
              "      <td>1.549189</td>\n",
              "    </tr>\n",
              "    <tr>\n",
              "      <th>5590</th>\n",
              "      <td>1.057543</td>\n",
              "      <td>0.898247</td>\n",
              "      <td>1.305666</td>\n",
              "      <td>-0.725391</td>\n",
              "      <td>10.561683</td>\n",
              "      <td>-0.826422</td>\n",
              "      <td>-0.949356</td>\n",
              "      <td>1.087070</td>\n",
              "      <td>-1.174470</td>\n",
              "      <td>4.194544</td>\n",
              "      <td>-1.256206</td>\n",
              "      <td>-1.747165</td>\n",
              "      <td>1.747165</td>\n",
              "      <td>5</td>\n",
              "      <td>1.565850</td>\n",
              "    </tr>\n",
              "    <tr>\n",
              "      <th>6158</th>\n",
              "      <td>1.057543</td>\n",
              "      <td>1.770252</td>\n",
              "      <td>2.471475</td>\n",
              "      <td>-0.767776</td>\n",
              "      <td>10.013292</td>\n",
              "      <td>-0.654510</td>\n",
              "      <td>-1.056190</td>\n",
              "      <td>0.553012</td>\n",
              "      <td>-1.236585</td>\n",
              "      <td>4.062731</td>\n",
              "      <td>-1.005179</td>\n",
              "      <td>-1.747165</td>\n",
              "      <td>1.747165</td>\n",
              "      <td>5</td>\n",
              "      <td>1.566524</td>\n",
              "    </tr>\n",
              "    <tr>\n",
              "      <th>5124</th>\n",
              "      <td>1.287789</td>\n",
              "      <td>1.499630</td>\n",
              "      <td>1.237089</td>\n",
              "      <td>-0.725391</td>\n",
              "      <td>8.108354</td>\n",
              "      <td>-0.196078</td>\n",
              "      <td>-0.611050</td>\n",
              "      <td>0.580053</td>\n",
              "      <td>-1.112355</td>\n",
              "      <td>7.094429</td>\n",
              "      <td>-0.837827</td>\n",
              "      <td>-1.747165</td>\n",
              "      <td>1.747165</td>\n",
              "      <td>6</td>\n",
              "      <td>1.635807</td>\n",
              "    </tr>\n",
              "    <tr>\n",
              "      <th>6268</th>\n",
              "      <td>1.134292</td>\n",
              "      <td>2.642256</td>\n",
              "      <td>1.305666</td>\n",
              "      <td>-0.788969</td>\n",
              "      <td>10.359644</td>\n",
              "      <td>-1.055638</td>\n",
              "      <td>-0.878134</td>\n",
              "      <td>0.522591</td>\n",
              "      <td>-1.360815</td>\n",
              "      <td>4.194544</td>\n",
              "      <td>-1.088854</td>\n",
              "      <td>-1.747165</td>\n",
              "      <td>1.747165</td>\n",
              "      <td>5</td>\n",
              "      <td>1.654766</td>\n",
              "    </tr>\n",
              "    <tr>\n",
              "      <th>6270</th>\n",
              "      <td>1.134292</td>\n",
              "      <td>2.642256</td>\n",
              "      <td>1.305666</td>\n",
              "      <td>-0.788969</td>\n",
              "      <td>10.359644</td>\n",
              "      <td>-1.055638</td>\n",
              "      <td>-0.878134</td>\n",
              "      <td>0.522591</td>\n",
              "      <td>-1.360815</td>\n",
              "      <td>4.194544</td>\n",
              "      <td>-1.088854</td>\n",
              "      <td>-1.747165</td>\n",
              "      <td>1.747165</td>\n",
              "      <td>5</td>\n",
              "      <td>1.654766</td>\n",
              "    </tr>\n",
              "    <tr>\n",
              "      <th>5949</th>\n",
              "      <td>0.980794</td>\n",
              "      <td>0.717832</td>\n",
              "      <td>1.854282</td>\n",
              "      <td>-0.852547</td>\n",
              "      <td>10.330782</td>\n",
              "      <td>-0.826422</td>\n",
              "      <td>-1.252051</td>\n",
              "      <td>0.789620</td>\n",
              "      <td>-1.174470</td>\n",
              "      <td>5.314954</td>\n",
              "      <td>-1.088854</td>\n",
              "      <td>-1.747165</td>\n",
              "      <td>1.747165</td>\n",
              "      <td>5</td>\n",
              "      <td>1.668755</td>\n",
              "    </tr>\n",
              "    <tr>\n",
              "      <th>6217</th>\n",
              "      <td>1.441286</td>\n",
              "      <td>2.521980</td>\n",
              "      <td>2.471475</td>\n",
              "      <td>-0.788969</td>\n",
              "      <td>10.330782</td>\n",
              "      <td>-0.711814</td>\n",
              "      <td>-0.913745</td>\n",
              "      <td>0.620615</td>\n",
              "      <td>-1.981965</td>\n",
              "      <td>5.249047</td>\n",
              "      <td>-1.172530</td>\n",
              "      <td>-1.747165</td>\n",
              "      <td>1.747165</td>\n",
              "      <td>6</td>\n",
              "      <td>1.815217</td>\n",
              "    </tr>\n",
              "    <tr>\n",
              "      <th>5067</th>\n",
              "      <td>0.213308</td>\n",
              "      <td>2.191219</td>\n",
              "      <td>-0.545912</td>\n",
              "      <td>-0.767776</td>\n",
              "      <td>8.772196</td>\n",
              "      <td>-0.883726</td>\n",
              "      <td>-0.931551</td>\n",
              "      <td>0.580053</td>\n",
              "      <td>-1.360815</td>\n",
              "      <td>6.962616</td>\n",
              "      <td>-0.837827</td>\n",
              "      <td>-1.747165</td>\n",
              "      <td>1.747165</td>\n",
              "      <td>5</td>\n",
              "      <td>1.821029</td>\n",
              "    </tr>\n",
              "    <tr>\n",
              "      <th>5004</th>\n",
              "      <td>0.443554</td>\n",
              "      <td>0.417141</td>\n",
              "      <td>2.471475</td>\n",
              "      <td>-0.788969</td>\n",
              "      <td>11.860505</td>\n",
              "      <td>-0.711814</td>\n",
              "      <td>-0.824717</td>\n",
              "      <td>0.884264</td>\n",
              "      <td>-0.863894</td>\n",
              "      <td>5.117235</td>\n",
              "      <td>-1.005179</td>\n",
              "      <td>-1.747165</td>\n",
              "      <td>1.747165</td>\n",
              "      <td>5</td>\n",
              "      <td>1.919544</td>\n",
              "    </tr>\n",
              "    <tr>\n",
              "      <th>4979</th>\n",
              "      <td>0.443554</td>\n",
              "      <td>0.537418</td>\n",
              "      <td>2.608629</td>\n",
              "      <td>-0.746584</td>\n",
              "      <td>11.773917</td>\n",
              "      <td>-0.482598</td>\n",
              "      <td>-0.860329</td>\n",
              "      <td>0.918065</td>\n",
              "      <td>-0.553319</td>\n",
              "      <td>4.919515</td>\n",
              "      <td>-0.921503</td>\n",
              "      <td>-1.747165</td>\n",
              "      <td>1.747165</td>\n",
              "      <td>5</td>\n",
              "      <td>1.933281</td>\n",
              "    </tr>\n",
              "    <tr>\n",
              "      <th>5156</th>\n",
              "      <td>0.366805</td>\n",
              "      <td>0.417141</td>\n",
              "      <td>3.020091</td>\n",
              "      <td>-0.767776</td>\n",
              "      <td>16.016733</td>\n",
              "      <td>-1.284855</td>\n",
              "      <td>-1.252051</td>\n",
              "      <td>0.715258</td>\n",
              "      <td>-0.988125</td>\n",
              "      <td>4.787702</td>\n",
              "      <td>-0.921503</td>\n",
              "      <td>-1.747165</td>\n",
              "      <td>1.747165</td>\n",
              "      <td>5</td>\n",
              "      <td>2.366397</td>\n",
              "    </tr>\n",
              "    <tr>\n",
              "      <th>4745</th>\n",
              "      <td>-0.861173</td>\n",
              "      <td>-0.484932</td>\n",
              "      <td>-0.477335</td>\n",
              "      <td>-0.534656</td>\n",
              "      <td>-0.261828</td>\n",
              "      <td>14.817583</td>\n",
              "      <td>5.781155</td>\n",
              "      <td>-0.521864</td>\n",
              "      <td>1.372247</td>\n",
              "      <td>0.701501</td>\n",
              "      <td>-0.001070</td>\n",
              "      <td>0.572356</td>\n",
              "      <td>-0.572356</td>\n",
              "      <td>3</td>\n",
              "      <td>2.608756</td>\n",
              "    </tr>\n",
              "    <tr>\n",
              "      <th>5049</th>\n",
              "      <td>1.518035</td>\n",
              "      <td>1.078662</td>\n",
              "      <td>4.665939</td>\n",
              "      <td>-0.428693</td>\n",
              "      <td>15.987870</td>\n",
              "      <td>0.090443</td>\n",
              "      <td>-0.824717</td>\n",
              "      <td>1.661690</td>\n",
              "      <td>-2.975806</td>\n",
              "      <td>9.664781</td>\n",
              "      <td>-0.921503</td>\n",
              "      <td>-1.747165</td>\n",
              "      <td>1.747165</td>\n",
              "      <td>4</td>\n",
              "      <td>2.908745</td>\n",
              "    </tr>\n",
              "    <tr>\n",
              "      <th>2781</th>\n",
              "      <td>0.443554</td>\n",
              "      <td>3.754814</td>\n",
              "      <td>1.922859</td>\n",
              "      <td>12.795572</td>\n",
              "      <td>0.517465</td>\n",
              "      <td>-1.284855</td>\n",
              "      <td>0.795591</td>\n",
              "      <td>14.972577</td>\n",
              "      <td>1.061672</td>\n",
              "      <td>1.031033</td>\n",
              "      <td>1.003039</td>\n",
              "      <td>0.572356</td>\n",
              "      <td>-0.572356</td>\n",
              "      <td>6</td>\n",
              "      <td>3.221659</td>\n",
              "    </tr>\n",
              "  </tbody>\n",
              "</table>\n",
              "</div>"
            ],
            "text/plain": [
              "      fixed acidity  volatile acidity  citric acid  ...   typered  target      erro\n",
              "5079       1.287789          1.619906     1.168512  ...  1.747165       5  1.006526\n",
              "5138       1.287789          1.770252     0.345588  ...  1.747165       5  1.013516\n",
              "5550       6.660194          0.116450     2.265744  ...  1.747165       5  1.019708\n",
              "3307       1.671532         -0.605209    -0.203027  ... -0.572356       3  1.021084\n",
              "2668       1.825030          1.890528    -0.751643  ... -0.572356       6  1.030181\n",
              "1551      -0.477430         -0.905900     4.597362  ... -0.572356       6  1.035622\n",
              "1722       0.213308          0.357003     4.665939  ... -0.572356       6  1.065436\n",
              "4473      -0.093687          0.116450    -0.820220  ... -0.572356       5  1.071926\n",
              "6197       0.290057          7.453316    -2.191760  ...  1.747165       3  1.072116\n",
              "2872      -2.319397         -1.026177     0.277011  ... -0.572356       7  1.076588\n",
              "6468      -0.630927          0.116450     1.442820  ...  1.747165       6  1.079430\n",
              "5512       1.518035          2.491911    -0.957374  ...  1.747165       6  1.101106\n",
              "5189       2.899511         -0.845762     1.099935  ...  1.747165       5  1.109227\n",
              "1775       0.366805          0.898247     4.665939  ... -0.572356       6  1.110461\n",
              "4940       0.213308          0.898247    -0.820220  ...  1.747165       6  1.117530\n",
              "325        0.213308         -0.424794    -0.065873  ... -0.572356       5  1.130625\n",
              "3050      -0.784424         -0.515002    -0.545912  ... -0.572356       4  1.135107\n",
              "2186      -0.554178          0.296865     3.362976  ... -0.572356       5  1.137390\n",
              "745        0.136559         -0.845762     9.192021  ... -0.572356       6  1.152438\n",
              "1034       0.520303          1.800321     0.962781  ... -0.572356       3  1.163685\n",
              "3152       0.290057         -0.545071     6.243210  ... -0.572356       6  1.187927\n",
              "687       -0.323933          1.980736    -0.134450  ... -0.572356       4  1.233613\n",
              "5628       1.748281          1.259077     2.334321  ...  1.747165       5  1.252386\n",
              "4917       0.520303         -0.124103     1.305666  ...  1.747165       6  1.272655\n",
              "5621      -0.093687         -0.184241    -0.134450  ...  1.747165       5  1.275011\n",
              "1931      -0.093687          0.898247    -0.683066  ... -0.572356       3  1.277060\n",
              "1217       0.597051          1.619906     0.414165  ... -0.572356       5  1.312705\n",
              "4989       1.057543          0.898247    -0.271604  ...  1.747165       6  1.336652\n",
              "4984       1.057543          0.898247    -0.271604  ...  1.747165       6  1.336652\n",
              "6063       0.980794          0.597556     1.237089  ...  1.747165       5  1.337810\n",
              "4990       1.057543          0.898247    -0.203027  ...  1.747165       5  1.348614\n",
              "5179       0.366805         -0.424794     2.471475  ...  1.747165       7  1.390798\n",
              "484       -0.784424          0.176588    -0.134450  ... -0.572356       5  1.393433\n",
              "5349       0.904046          0.176588     1.442820  ...  1.747165       6  1.412740\n",
              "5652       0.443554          0.838109     2.471475  ...  1.747165       6  1.495206\n",
              "4981       0.059811          1.980736    -0.408758  ...  1.747165       5  1.547285\n",
              "4915       0.673800          1.319215    -0.271604  ...  1.747165       5  1.549189\n",
              "5590       1.057543          0.898247     1.305666  ...  1.747165       5  1.565850\n",
              "6158       1.057543          1.770252     2.471475  ...  1.747165       5  1.566524\n",
              "5124       1.287789          1.499630     1.237089  ...  1.747165       6  1.635807\n",
              "6268       1.134292          2.642256     1.305666  ...  1.747165       5  1.654766\n",
              "6270       1.134292          2.642256     1.305666  ...  1.747165       5  1.654766\n",
              "5949       0.980794          0.717832     1.854282  ...  1.747165       5  1.668755\n",
              "6217       1.441286          2.521980     2.471475  ...  1.747165       6  1.815217\n",
              "5067       0.213308          2.191219    -0.545912  ...  1.747165       5  1.821029\n",
              "5004       0.443554          0.417141     2.471475  ...  1.747165       5  1.919544\n",
              "4979       0.443554          0.537418     2.608629  ...  1.747165       5  1.933281\n",
              "5156       0.366805          0.417141     3.020091  ...  1.747165       5  2.366397\n",
              "4745      -0.861173         -0.484932    -0.477335  ... -0.572356       3  2.608756\n",
              "5049       1.518035          1.078662     4.665939  ...  1.747165       4  2.908745\n",
              "2781       0.443554          3.754814     1.922859  ... -0.572356       6  3.221659\n",
              "\n",
              "[51 rows x 15 columns]"
            ]
          },
          "metadata": {
            "tags": []
          },
          "execution_count": 99
        }
      ]
    },
    {
      "cell_type": "markdown",
      "metadata": {
        "id": "3BXi3psVLJgI",
        "colab_type": "text"
      },
      "source": [
        "we do not know why this ouliner appear, if they are caused by mistaken count we will remove it, if they are just strange sample as they should be we will keep it. here we just keep them and see what happen in next few steps."
      ]
    },
    {
      "cell_type": "markdown",
      "metadata": {
        "id": "5HNRXNgMTtsI",
        "colab_type": "text"
      },
      "source": [
        "###pca including y"
      ]
    },
    {
      "cell_type": "code",
      "metadata": {
        "id": "muPw5m0fUzNK",
        "colab_type": "code",
        "colab": {}
      },
      "source": [
        "Xnew=pd.DataFrame(X_train1)\n",
        "Xnew['y']=y_train\n",
        "Xnew['color']=y_train\n",
        "Xnew['color']=Xnew['y'].map(dict1)"
      ],
      "execution_count": 0,
      "outputs": []
    },
    {
      "cell_type": "code",
      "metadata": {
        "id": "oYnpil4SWGXe",
        "colab_type": "code",
        "colab": {}
      },
      "source": [
        "Xnew=Xnew.dropna()"
      ],
      "execution_count": 0,
      "outputs": []
    },
    {
      "cell_type": "code",
      "metadata": {
        "id": "z3buYLw9T8F0",
        "colab_type": "code",
        "outputId": "73ae0ee3-7537-47c8-a5a6-4fada76b815c",
        "colab": {
          "base_uri": "https://localhost:8080/",
          "height": 319
        }
      },
      "source": [
        "from sklearn.decomposition import PCA\n",
        "pca = PCA(n_components=3)\n",
        "X1=pca.fit_transform(Xnew.iloc[:,:-1])\n",
        "from mpl_toolkits.mplot3d import Axes3D\n",
        "fig = plt.figure()\n",
        "ax = Axes3D(fig)\n",
        "for i in range(X1.shape[0]):\n",
        "  ax.scatter(X1[i,0],X1[i,1],X1[i,2],c=Xnew.iloc[i,-1])\n",
        "plt.show()"
      ],
      "execution_count": 0,
      "outputs": [
        {
          "output_type": "display_data",
          "data": {
            "image/png": "[encoded data removed]",
            "text/plain": [
              "<Figure size 432x288 with 1 Axes>"
            ]
          },
          "metadata": {
            "tags": []
          }
        }
      ]
    },
    {
      "cell_type": "code",
      "metadata": {
        "id": "In9n3bNDWd8N",
        "colab_type": "code",
        "outputId": "73bcedd8-2234-4b6d-e328-5583f29dc7bb",
        "colab": {
          "base_uri": "https://localhost:8080/",
          "height": 455
        }
      },
      "source": [
        "dfwine"
      ],
      "execution_count": 0,
      "outputs": [
        {
          "output_type": "execute_result",
          "data": {
            "text/html": [
              "<div>\n",
              "<style scoped>\n",
              "    .dataframe tbody tr th:only-of-type {\n",
              "        vertical-align: middle;\n",
              "    }\n",
              "\n",
              "    .dataframe tbody tr th {\n",
              "        vertical-align: top;\n",
              "    }\n",
              "\n",
              "    .dataframe thead th {\n",
              "        text-align: right;\n",
              "    }\n",
              "</style>\n",
              "<table border=\"1\" class=\"dataframe\">\n",
              "  <thead>\n",
              "    <tr style=\"text-align: right;\">\n",
              "      <th></th>\n",
              "      <th>fixed acidity</th>\n",
              "      <th>volatile acidity</th>\n",
              "      <th>citric acid</th>\n",
              "      <th>residual sugar</th>\n",
              "      <th>chlorides</th>\n",
              "      <th>free sulfur dioxide</th>\n",
              "      <th>total sulfur dioxide</th>\n",
              "      <th>density</th>\n",
              "      <th>pH</th>\n",
              "      <th>sulphates</th>\n",
              "      <th>alcohol</th>\n",
              "      <th>typewhite</th>\n",
              "      <th>typered</th>\n",
              "      <th>target</th>\n",
              "      <th>erro</th>\n",
              "    </tr>\n",
              "  </thead>\n",
              "  <tbody>\n",
              "    <tr>\n",
              "      <th>0</th>\n",
              "      <td>-0.170435</td>\n",
              "      <td>-0.424794</td>\n",
              "      <td>0.277011</td>\n",
              "      <td>3.237650</td>\n",
              "      <td>-0.319553</td>\n",
              "      <td>0.835395</td>\n",
              "      <td>0.973647</td>\n",
              "      <td>2.134906</td>\n",
              "      <td>-1.360815</td>\n",
              "      <td>-0.550722</td>\n",
              "      <td>-1.423557</td>\n",
              "      <td>0.572356</td>\n",
              "      <td>-0.572356</td>\n",
              "      <td>6</td>\n",
              "      <td>0.428657</td>\n",
              "    </tr>\n",
              "    <tr>\n",
              "      <th>1</th>\n",
              "      <td>-0.707676</td>\n",
              "      <td>-0.244379</td>\n",
              "      <td>0.139857</td>\n",
              "      <td>-0.810162</td>\n",
              "      <td>-0.204102</td>\n",
              "      <td>-0.941030</td>\n",
              "      <td>0.297035</td>\n",
              "      <td>-0.231174</td>\n",
              "      <td>0.502637</td>\n",
              "      <td>-0.287096</td>\n",
              "      <td>-0.837827</td>\n",
              "      <td>0.572356</td>\n",
              "      <td>-0.572356</td>\n",
              "      <td>6</td>\n",
              "      <td>0.390656</td>\n",
              "    </tr>\n",
              "    <tr>\n",
              "      <th>2</th>\n",
              "      <td>0.673800</td>\n",
              "      <td>-0.364656</td>\n",
              "      <td>0.551319</td>\n",
              "      <td>0.313053</td>\n",
              "      <td>-0.175239</td>\n",
              "      <td>-0.024165</td>\n",
              "      <td>-0.326161</td>\n",
              "      <td>0.140639</td>\n",
              "      <td>0.254176</td>\n",
              "      <td>-0.616628</td>\n",
              "      <td>-0.335773</td>\n",
              "      <td>0.572356</td>\n",
              "      <td>-0.572356</td>\n",
              "      <td>6</td>\n",
              "      <td>0.296463</td>\n",
              "    </tr>\n",
              "    <tr>\n",
              "      <th>3</th>\n",
              "      <td>-0.016938</td>\n",
              "      <td>-0.665347</td>\n",
              "      <td>0.002703</td>\n",
              "      <td>0.652137</td>\n",
              "      <td>0.055662</td>\n",
              "      <td>0.950003</td>\n",
              "      <td>1.258536</td>\n",
              "      <td>0.309644</td>\n",
              "      <td>-0.180629</td>\n",
              "      <td>-0.880254</td>\n",
              "      <td>-0.503124</td>\n",
              "      <td>0.572356</td>\n",
              "      <td>-0.572356</td>\n",
              "      <td>6</td>\n",
              "      <td>0.212306</td>\n",
              "    </tr>\n",
              "    <tr>\n",
              "      <th>4</th>\n",
              "      <td>-0.016938</td>\n",
              "      <td>-0.665347</td>\n",
              "      <td>0.002703</td>\n",
              "      <td>0.652137</td>\n",
              "      <td>0.055662</td>\n",
              "      <td>0.950003</td>\n",
              "      <td>1.258536</td>\n",
              "      <td>0.309644</td>\n",
              "      <td>-0.180629</td>\n",
              "      <td>-0.880254</td>\n",
              "      <td>-0.503124</td>\n",
              "      <td>0.572356</td>\n",
              "      <td>-0.572356</td>\n",
              "      <td>6</td>\n",
              "      <td>0.212306</td>\n",
              "    </tr>\n",
              "    <tr>\n",
              "      <th>...</th>\n",
              "      <td>...</td>\n",
              "      <td>...</td>\n",
              "      <td>...</td>\n",
              "      <td>...</td>\n",
              "      <td>...</td>\n",
              "      <td>...</td>\n",
              "      <td>...</td>\n",
              "      <td>...</td>\n",
              "      <td>...</td>\n",
              "      <td>...</td>\n",
              "      <td>...</td>\n",
              "      <td>...</td>\n",
              "      <td>...</td>\n",
              "      <td>...</td>\n",
              "      <td>...</td>\n",
              "    </tr>\n",
              "    <tr>\n",
              "      <th>6492</th>\n",
              "      <td>-0.784424</td>\n",
              "      <td>1.559768</td>\n",
              "      <td>-1.643144</td>\n",
              "      <td>-0.725391</td>\n",
              "      <td>0.979268</td>\n",
              "      <td>0.090443</td>\n",
              "      <td>-1.269857</td>\n",
              "      <td>0.073036</td>\n",
              "      <td>1.434362</td>\n",
              "      <td>0.306062</td>\n",
              "      <td>-0.001070</td>\n",
              "      <td>-1.747165</td>\n",
              "      <td>1.747165</td>\n",
              "      <td>5</td>\n",
              "      <td>0.261322</td>\n",
              "    </tr>\n",
              "    <tr>\n",
              "      <th>6493</th>\n",
              "      <td>-1.014670</td>\n",
              "      <td>1.259077</td>\n",
              "      <td>-1.505990</td>\n",
              "      <td>-0.683005</td>\n",
              "      <td>0.171113</td>\n",
              "      <td>0.491571</td>\n",
              "      <td>-1.145218</td>\n",
              "      <td>0.147399</td>\n",
              "      <td>1.869168</td>\n",
              "      <td>-0.015461</td>\n",
              "      <td>0.584660</td>\n",
              "      <td>-1.747165</td>\n",
              "      <td>1.747165</td>\n",
              "      <td>6</td>\n",
              "      <td>0.358064</td>\n",
              "    </tr>\n",
              "    <tr>\n",
              "      <th>6494</th>\n",
              "      <td>-0.707676</td>\n",
              "      <td>1.018524</td>\n",
              "      <td>-1.300259</td>\n",
              "      <td>-0.661813</td>\n",
              "      <td>0.575191</td>\n",
              "      <td>-0.081470</td>\n",
              "      <td>-1.341079</td>\n",
              "      <td>0.356966</td>\n",
              "      <td>1.248017</td>\n",
              "      <td>1.426472</td>\n",
              "      <td>0.417309</td>\n",
              "      <td>-1.747165</td>\n",
              "      <td>1.747165</td>\n",
              "      <td>6</td>\n",
              "      <td>0.331991</td>\n",
              "    </tr>\n",
              "    <tr>\n",
              "      <th>6495</th>\n",
              "      <td>-1.014670</td>\n",
              "      <td>1.830390</td>\n",
              "      <td>-1.368836</td>\n",
              "      <td>-0.725391</td>\n",
              "      <td>0.546328</td>\n",
              "      <td>0.090443</td>\n",
              "      <td>-1.269857</td>\n",
              "      <td>0.265703</td>\n",
              "      <td>2.179743</td>\n",
              "      <td>1.162846</td>\n",
              "      <td>-0.252097</td>\n",
              "      <td>-1.747165</td>\n",
              "      <td>1.747165</td>\n",
              "      <td>5</td>\n",
              "      <td>0.306485</td>\n",
              "    </tr>\n",
              "    <tr>\n",
              "      <th>6496</th>\n",
              "      <td>-0.937922</td>\n",
              "      <td>-0.184241</td>\n",
              "      <td>1.031358</td>\n",
              "      <td>-0.386307</td>\n",
              "      <td>0.315426</td>\n",
              "      <td>-0.711814</td>\n",
              "      <td>-1.305468</td>\n",
              "      <td>0.272463</td>\n",
              "      <td>1.061672</td>\n",
              "      <td>0.833314</td>\n",
              "      <td>0.417309</td>\n",
              "      <td>-1.747165</td>\n",
              "      <td>1.747165</td>\n",
              "      <td>6</td>\n",
              "      <td>0.563708</td>\n",
              "    </tr>\n",
              "  </tbody>\n",
              "</table>\n",
              "<p>6497 rows × 15 columns</p>\n",
              "</div>"
            ],
            "text/plain": [
              "      fixed acidity  volatile acidity  citric acid  ...   typered  target      erro\n",
              "0         -0.170435         -0.424794     0.277011  ... -0.572356       6  0.428657\n",
              "1         -0.707676         -0.244379     0.139857  ... -0.572356       6  0.390656\n",
              "2          0.673800         -0.364656     0.551319  ... -0.572356       6  0.296463\n",
              "3         -0.016938         -0.665347     0.002703  ... -0.572356       6  0.212306\n",
              "4         -0.016938         -0.665347     0.002703  ... -0.572356       6  0.212306\n",
              "...             ...               ...          ...  ...       ...     ...       ...\n",
              "6492      -0.784424          1.559768    -1.643144  ...  1.747165       5  0.261322\n",
              "6493      -1.014670          1.259077    -1.505990  ...  1.747165       6  0.358064\n",
              "6494      -0.707676          1.018524    -1.300259  ...  1.747165       6  0.331991\n",
              "6495      -1.014670          1.830390    -1.368836  ...  1.747165       5  0.306485\n",
              "6496      -0.937922         -0.184241     1.031358  ...  1.747165       6  0.563708\n",
              "\n",
              "[6497 rows x 15 columns]"
            ]
          },
          "metadata": {
            "tags": []
          },
          "execution_count": 103
        }
      ]
    },
    {
      "cell_type": "code",
      "metadata": {
        "id": "F--BLitMT8Ds",
        "colab_type": "code",
        "colab": {}
      },
      "source": [
        "X11=pca.transform(dfwine.iloc[:,:-1])\n",
        "\n",
        "\n",
        "\n",
        "X_re = X11.dot(pca.components_) + pca.mean_\n",
        "Xerro=abs(dfwine.iloc[:,:-1].values-X_re)\n",
        "erro=np.mean(Xerro, axis=1)\n",
        "\n",
        "dfwine['erro']=erro"
      ],
      "execution_count": 0,
      "outputs": []
    },
    {
      "cell_type": "code",
      "metadata": {
        "id": "u4VE_R5hT8BO",
        "colab_type": "code",
        "outputId": "c0481835-fbf4-42eb-9923-fa4f5ccc7a9d",
        "colab": {
          "base_uri": "https://localhost:8080/",
          "height": 312
        }
      },
      "source": [
        "plt.hist(dfwine.sort_values(by='erro')['erro'])\n",
        "plt.xlabel('erro')\n",
        "plt.ylabel('number')\n",
        "plt.title(\"erro distribution\")"
      ],
      "execution_count": 0,
      "outputs": [
        {
          "output_type": "execute_result",
          "data": {
            "text/plain": [
              "Text(0.5, 1.0, 'erro distribution')"
            ]
          },
          "metadata": {
            "tags": []
          },
          "execution_count": 105
        },
        {
          "output_type": "display_data",
          "data": {
            "image/png": "[encoded data removed]",
            "text/plain": [
              "<Figure size 432x288 with 1 Axes>"
            ]
          },
          "metadata": {
            "tags": []
          }
        }
      ]
    },
    {
      "cell_type": "code",
      "metadata": {
        "id": "4TRkxImtT7_F",
        "colab_type": "code",
        "outputId": "ff6294ea-77df-44f2-f222-86bf291a35ff",
        "colab": {
          "base_uri": "https://localhost:8080/",
          "height": 486
        }
      },
      "source": [
        "dfwine.sort_values(by='erro').loc[dfwine.sort_values(by='erro')['erro']>1.5]"
      ],
      "execution_count": 0,
      "outputs": [
        {
          "output_type": "execute_result",
          "data": {
            "text/html": [
              "<div>\n",
              "<style scoped>\n",
              "    .dataframe tbody tr th:only-of-type {\n",
              "        vertical-align: middle;\n",
              "    }\n",
              "\n",
              "    .dataframe tbody tr th {\n",
              "        vertical-align: top;\n",
              "    }\n",
              "\n",
              "    .dataframe thead th {\n",
              "        text-align: right;\n",
              "    }\n",
              "</style>\n",
              "<table border=\"1\" class=\"dataframe\">\n",
              "  <thead>\n",
              "    <tr style=\"text-align: right;\">\n",
              "      <th></th>\n",
              "      <th>fixed acidity</th>\n",
              "      <th>volatile acidity</th>\n",
              "      <th>citric acid</th>\n",
              "      <th>residual sugar</th>\n",
              "      <th>chlorides</th>\n",
              "      <th>free sulfur dioxide</th>\n",
              "      <th>total sulfur dioxide</th>\n",
              "      <th>density</th>\n",
              "      <th>pH</th>\n",
              "      <th>sulphates</th>\n",
              "      <th>alcohol</th>\n",
              "      <th>typewhite</th>\n",
              "      <th>typered</th>\n",
              "      <th>target</th>\n",
              "      <th>erro</th>\n",
              "    </tr>\n",
              "  </thead>\n",
              "  <tbody>\n",
              "    <tr>\n",
              "      <th>5590</th>\n",
              "      <td>1.057543</td>\n",
              "      <td>0.898247</td>\n",
              "      <td>1.305666</td>\n",
              "      <td>-0.725391</td>\n",
              "      <td>10.561683</td>\n",
              "      <td>-0.826422</td>\n",
              "      <td>-0.949356</td>\n",
              "      <td>1.087070</td>\n",
              "      <td>-1.174470</td>\n",
              "      <td>4.194544</td>\n",
              "      <td>-1.256206</td>\n",
              "      <td>-1.747165</td>\n",
              "      <td>1.747165</td>\n",
              "      <td>5</td>\n",
              "      <td>1.501431</td>\n",
              "    </tr>\n",
              "    <tr>\n",
              "      <th>5124</th>\n",
              "      <td>1.287789</td>\n",
              "      <td>1.499630</td>\n",
              "      <td>1.237089</td>\n",
              "      <td>-0.725391</td>\n",
              "      <td>8.108354</td>\n",
              "      <td>-0.196078</td>\n",
              "      <td>-0.611050</td>\n",
              "      <td>0.580053</td>\n",
              "      <td>-1.112355</td>\n",
              "      <td>7.094429</td>\n",
              "      <td>-0.837827</td>\n",
              "      <td>-1.747165</td>\n",
              "      <td>1.747165</td>\n",
              "      <td>6</td>\n",
              "      <td>1.521363</td>\n",
              "    </tr>\n",
              "    <tr>\n",
              "      <th>5949</th>\n",
              "      <td>0.980794</td>\n",
              "      <td>0.717832</td>\n",
              "      <td>1.854282</td>\n",
              "      <td>-0.852547</td>\n",
              "      <td>10.330782</td>\n",
              "      <td>-0.826422</td>\n",
              "      <td>-1.252051</td>\n",
              "      <td>0.789620</td>\n",
              "      <td>-1.174470</td>\n",
              "      <td>5.314954</td>\n",
              "      <td>-1.088854</td>\n",
              "      <td>-1.747165</td>\n",
              "      <td>1.747165</td>\n",
              "      <td>5</td>\n",
              "      <td>1.572525</td>\n",
              "    </tr>\n",
              "    <tr>\n",
              "      <th>6270</th>\n",
              "      <td>1.134292</td>\n",
              "      <td>2.642256</td>\n",
              "      <td>1.305666</td>\n",
              "      <td>-0.788969</td>\n",
              "      <td>10.359644</td>\n",
              "      <td>-1.055638</td>\n",
              "      <td>-0.878134</td>\n",
              "      <td>0.522591</td>\n",
              "      <td>-1.360815</td>\n",
              "      <td>4.194544</td>\n",
              "      <td>-1.088854</td>\n",
              "      <td>-1.747165</td>\n",
              "      <td>1.747165</td>\n",
              "      <td>5</td>\n",
              "      <td>1.580398</td>\n",
              "    </tr>\n",
              "    <tr>\n",
              "      <th>6268</th>\n",
              "      <td>1.134292</td>\n",
              "      <td>2.642256</td>\n",
              "      <td>1.305666</td>\n",
              "      <td>-0.788969</td>\n",
              "      <td>10.359644</td>\n",
              "      <td>-1.055638</td>\n",
              "      <td>-0.878134</td>\n",
              "      <td>0.522591</td>\n",
              "      <td>-1.360815</td>\n",
              "      <td>4.194544</td>\n",
              "      <td>-1.088854</td>\n",
              "      <td>-1.747165</td>\n",
              "      <td>1.747165</td>\n",
              "      <td>5</td>\n",
              "      <td>1.580398</td>\n",
              "    </tr>\n",
              "    <tr>\n",
              "      <th>6217</th>\n",
              "      <td>1.441286</td>\n",
              "      <td>2.521980</td>\n",
              "      <td>2.471475</td>\n",
              "      <td>-0.788969</td>\n",
              "      <td>10.330782</td>\n",
              "      <td>-0.711814</td>\n",
              "      <td>-0.913745</td>\n",
              "      <td>0.620615</td>\n",
              "      <td>-1.981965</td>\n",
              "      <td>5.249047</td>\n",
              "      <td>-1.172530</td>\n",
              "      <td>-1.747165</td>\n",
              "      <td>1.747165</td>\n",
              "      <td>6</td>\n",
              "      <td>1.678431</td>\n",
              "    </tr>\n",
              "    <tr>\n",
              "      <th>5067</th>\n",
              "      <td>0.213308</td>\n",
              "      <td>2.191219</td>\n",
              "      <td>-0.545912</td>\n",
              "      <td>-0.767776</td>\n",
              "      <td>8.772196</td>\n",
              "      <td>-0.883726</td>\n",
              "      <td>-0.931551</td>\n",
              "      <td>0.580053</td>\n",
              "      <td>-1.360815</td>\n",
              "      <td>6.962616</td>\n",
              "      <td>-0.837827</td>\n",
              "      <td>-1.747165</td>\n",
              "      <td>1.747165</td>\n",
              "      <td>5</td>\n",
              "      <td>1.754443</td>\n",
              "    </tr>\n",
              "    <tr>\n",
              "      <th>5004</th>\n",
              "      <td>0.443554</td>\n",
              "      <td>0.417141</td>\n",
              "      <td>2.471475</td>\n",
              "      <td>-0.788969</td>\n",
              "      <td>11.860505</td>\n",
              "      <td>-0.711814</td>\n",
              "      <td>-0.824717</td>\n",
              "      <td>0.884264</td>\n",
              "      <td>-0.863894</td>\n",
              "      <td>5.117235</td>\n",
              "      <td>-1.005179</td>\n",
              "      <td>-1.747165</td>\n",
              "      <td>1.747165</td>\n",
              "      <td>5</td>\n",
              "      <td>1.810550</td>\n",
              "    </tr>\n",
              "    <tr>\n",
              "      <th>4979</th>\n",
              "      <td>0.443554</td>\n",
              "      <td>0.537418</td>\n",
              "      <td>2.608629</td>\n",
              "      <td>-0.746584</td>\n",
              "      <td>11.773917</td>\n",
              "      <td>-0.482598</td>\n",
              "      <td>-0.860329</td>\n",
              "      <td>0.918065</td>\n",
              "      <td>-0.553319</td>\n",
              "      <td>4.919515</td>\n",
              "      <td>-0.921503</td>\n",
              "      <td>-1.747165</td>\n",
              "      <td>1.747165</td>\n",
              "      <td>5</td>\n",
              "      <td>1.824379</td>\n",
              "    </tr>\n",
              "    <tr>\n",
              "      <th>5156</th>\n",
              "      <td>0.366805</td>\n",
              "      <td>0.417141</td>\n",
              "      <td>3.020091</td>\n",
              "      <td>-0.767776</td>\n",
              "      <td>16.016733</td>\n",
              "      <td>-1.284855</td>\n",
              "      <td>-1.252051</td>\n",
              "      <td>0.715258</td>\n",
              "      <td>-0.988125</td>\n",
              "      <td>4.787702</td>\n",
              "      <td>-0.921503</td>\n",
              "      <td>-1.747165</td>\n",
              "      <td>1.747165</td>\n",
              "      <td>5</td>\n",
              "      <td>2.219139</td>\n",
              "    </tr>\n",
              "    <tr>\n",
              "      <th>4745</th>\n",
              "      <td>-0.861173</td>\n",
              "      <td>-0.484932</td>\n",
              "      <td>-0.477335</td>\n",
              "      <td>-0.534656</td>\n",
              "      <td>-0.261828</td>\n",
              "      <td>14.817583</td>\n",
              "      <td>5.781155</td>\n",
              "      <td>-0.521864</td>\n",
              "      <td>1.372247</td>\n",
              "      <td>0.701501</td>\n",
              "      <td>-0.001070</td>\n",
              "      <td>0.572356</td>\n",
              "      <td>-0.572356</td>\n",
              "      <td>3</td>\n",
              "      <td>2.627653</td>\n",
              "    </tr>\n",
              "    <tr>\n",
              "      <th>5049</th>\n",
              "      <td>1.518035</td>\n",
              "      <td>1.078662</td>\n",
              "      <td>4.665939</td>\n",
              "      <td>-0.428693</td>\n",
              "      <td>15.987870</td>\n",
              "      <td>0.090443</td>\n",
              "      <td>-0.824717</td>\n",
              "      <td>1.661690</td>\n",
              "      <td>-2.975806</td>\n",
              "      <td>9.664781</td>\n",
              "      <td>-0.921503</td>\n",
              "      <td>-1.747165</td>\n",
              "      <td>1.747165</td>\n",
              "      <td>4</td>\n",
              "      <td>2.752504</td>\n",
              "    </tr>\n",
              "    <tr>\n",
              "      <th>2781</th>\n",
              "      <td>0.443554</td>\n",
              "      <td>3.754814</td>\n",
              "      <td>1.922859</td>\n",
              "      <td>12.795572</td>\n",
              "      <td>0.517465</td>\n",
              "      <td>-1.284855</td>\n",
              "      <td>0.795591</td>\n",
              "      <td>14.972577</td>\n",
              "      <td>1.061672</td>\n",
              "      <td>1.031033</td>\n",
              "      <td>1.003039</td>\n",
              "      <td>0.572356</td>\n",
              "      <td>-0.572356</td>\n",
              "      <td>6</td>\n",
              "      <td>3.061499</td>\n",
              "    </tr>\n",
              "  </tbody>\n",
              "</table>\n",
              "</div>"
            ],
            "text/plain": [
              "      fixed acidity  volatile acidity  citric acid  ...   typered  target      erro\n",
              "5590       1.057543          0.898247     1.305666  ...  1.747165       5  1.501431\n",
              "5124       1.287789          1.499630     1.237089  ...  1.747165       6  1.521363\n",
              "5949       0.980794          0.717832     1.854282  ...  1.747165       5  1.572525\n",
              "6270       1.134292          2.642256     1.305666  ...  1.747165       5  1.580398\n",
              "6268       1.134292          2.642256     1.305666  ...  1.747165       5  1.580398\n",
              "6217       1.441286          2.521980     2.471475  ...  1.747165       6  1.678431\n",
              "5067       0.213308          2.191219    -0.545912  ...  1.747165       5  1.754443\n",
              "5004       0.443554          0.417141     2.471475  ...  1.747165       5  1.810550\n",
              "4979       0.443554          0.537418     2.608629  ...  1.747165       5  1.824379\n",
              "5156       0.366805          0.417141     3.020091  ...  1.747165       5  2.219139\n",
              "4745      -0.861173         -0.484932    -0.477335  ... -0.572356       3  2.627653\n",
              "5049       1.518035          1.078662     4.665939  ...  1.747165       4  2.752504\n",
              "2781       0.443554          3.754814     1.922859  ... -0.572356       6  3.061499\n",
              "\n",
              "[13 rows x 15 columns]"
            ]
          },
          "metadata": {
            "tags": []
          },
          "execution_count": 106
        }
      ]
    },
    {
      "cell_type": "markdown",
      "metadata": {
        "id": "CSIwucIL9ZQ5",
        "colab_type": "text"
      },
      "source": [
        "###Supervised I:  lasso to do feature selection."
      ]
    },
    {
      "cell_type": "code",
      "metadata": {
        "id": "CzqAZfQA9UQa",
        "colab_type": "code",
        "colab": {}
      },
      "source": [
        "from sklearn.linear_model import Lasso\n",
        "from sklearn.model_selection import cross_val_score"
      ],
      "execution_count": 0,
      "outputs": []
    },
    {
      "cell_type": "code",
      "metadata": {
        "id": "7rzqU64Dok2w",
        "colab_type": "code",
        "colab": {}
      },
      "source": [
        ""
      ],
      "execution_count": 0,
      "outputs": []
    },
    {
      "cell_type": "code",
      "metadata": {
        "id": "qHOGB89RCbbi",
        "colab_type": "code",
        "colab": {}
      },
      "source": [
        "X_trainsub, X_testsub, y_trainsub, y_testsub = train_test_split(X_train, y_train.tolist(), test_size=0.3,random_state=42)\n"
      ],
      "execution_count": 0,
      "outputs": []
    },
    {
      "cell_type": "code",
      "metadata": {
        "id": "9_1Ten8VCbY6",
        "colab_type": "code",
        "colab": {}
      },
      "source": [
        "from sklearn.linear_model import Lasso\n",
        "lamblist=[0.001,0.003,0.006,0.01,0.015,0.02,0.025,0.03,0.035,0.04,0.045,0.05]\n",
        "y_testsub=np.array(y_testsub)\n",
        "diflist=[]\n",
        "for i in lamblist:\n",
        "  lasso_reg = Lasso(alpha=i,max_iter=10000)\n",
        "  lasso_reg.fit(X_trainsub, y_trainsub)\n",
        "  ypred=lasso_reg.predict(X_testsub)\n",
        "  dif=ypred-y_testsub\n",
        "  dif=np.dot(dif,dif.T)/len(dif)\n",
        "  diflist.append(dif)"
      ],
      "execution_count": 0,
      "outputs": []
    },
    {
      "cell_type": "code",
      "metadata": {
        "id": "fk9_5yuJCbWa",
        "colab_type": "code",
        "outputId": "72b27b70-713f-4abf-eb1c-dc0c6142f32a",
        "colab": {
          "base_uri": "https://localhost:8080/",
          "height": 312
        }
      },
      "source": [
        "plt.plot(lamblist,diflist)\n",
        "plt.xlabel('lamb')\n",
        "plt.ylabel('MSE')\n",
        "plt.title(\"MSE-lamb\")"
      ],
      "execution_count": 0,
      "outputs": [
        {
          "output_type": "execute_result",
          "data": {
            "text/plain": [
              "Text(0.5, 1.0, 'MSE-lamb')"
            ]
          },
          "metadata": {
            "tags": []
          },
          "execution_count": 110
        },
        {
          "output_type": "display_data",
          "data": {
            "image/png": "[encoded data removed]",
            "text/plain": [
              "<Figure size 432x288 with 1 Axes>"
            ]
          },
          "metadata": {
            "tags": []
          }
        }
      ]
    },
    {
      "cell_type": "code",
      "metadata": {
        "id": "lSHsuZWvCbT9",
        "colab_type": "code",
        "outputId": "7e035aac-c309-4aec-e1bb-2eb272d4c89a",
        "colab": {
          "base_uri": "https://localhost:8080/",
          "height": 50
        }
      },
      "source": [
        "#so when lambda=0.003, when have the least MSE, we choose 0.005 to do the lasso. \n",
        "lamb = 0.003\n",
        "lasso_reg = Lasso(alpha=lamb)\n",
        "lasso_reg.fit(X_train, y_train)\n",
        "a=lasso_reg.coef_.tolist()\n",
        "ilist=[]\n",
        "for i in range(len(a)):\n",
        "  if a[i]==0:\n",
        "    ilist.append(i)\n",
        "print(len(ilist))\n",
        "dfwine.iloc[:,ilist].columns\n",
        "#so we need to drop the feature 'typered'\n",
        "#it can be explain that we already have typewhite and we donot need typewhite any more, why red?"
      ],
      "execution_count": 0,
      "outputs": [
        {
          "output_type": "stream",
          "text": [
            "1\n"
          ],
          "name": "stdout"
        },
        {
          "output_type": "execute_result",
          "data": {
            "text/plain": [
              "Index(['typered'], dtype='object')"
            ]
          },
          "metadata": {
            "tags": []
          },
          "execution_count": 111
        }
      ]
    },
    {
      "cell_type": "code",
      "metadata": {
        "id": "GRIoKIQ5ucIo",
        "colab_type": "code",
        "outputId": "dfeca4fe-2a63-4c2b-e8f8-51cc0cf4849e",
        "colab": {
          "base_uri": "https://localhost:8080/",
          "height": 269
        }
      },
      "source": [
        "dfwine.columns.tolist()"
      ],
      "execution_count": 0,
      "outputs": [
        {
          "output_type": "execute_result",
          "data": {
            "text/plain": [
              "['fixed acidity',\n",
              " 'volatile acidity',\n",
              " 'citric acid',\n",
              " 'residual sugar',\n",
              " 'chlorides',\n",
              " 'free sulfur dioxide',\n",
              " 'total sulfur dioxide',\n",
              " 'density',\n",
              " 'pH',\n",
              " 'sulphates',\n",
              " 'alcohol',\n",
              " 'typewhite',\n",
              " 'typered',\n",
              " 'target',\n",
              " 'erro']"
            ]
          },
          "metadata": {
            "tags": []
          },
          "execution_count": 112
        }
      ]
    },
    {
      "cell_type": "code",
      "metadata": {
        "id": "8h7SWHKqtvUg",
        "colab_type": "code",
        "outputId": "6a3c9b33-ebc6-4ff7-f182-85cf1ed38a76",
        "colab": {
          "base_uri": "https://localhost:8080/",
          "height": 313
        }
      },
      "source": [
        "im=lasso_reg.coef_.tolist()\n",
        "for i in range(len(im)):\n",
        "  im[i]=abs(im[i])\n",
        "\n",
        "\n",
        "import seaborn as sns\n",
        "\n",
        "sns.barplot(y=dfwine.columns.tolist()[:-2],x=im)\n",
        "plt.xlabel('importance/coef_')\n",
        "plt.ylabel('feature')\n",
        "plt.title('coef_-feature')\n"
      ],
      "execution_count": 0,
      "outputs": [
        {
          "output_type": "execute_result",
          "data": {
            "text/plain": [
              "Text(0.5, 1.0, 'coef_-feature')"
            ]
          },
          "metadata": {
            "tags": []
          },
          "execution_count": 113
        },
        {
          "output_type": "display_data",
          "data": {
            "image/png": "[encoded data removed]",
            "text/plain": [
              "<Figure size 432x288 with 1 Axes>"
            ]
          },
          "metadata": {
            "tags": []
          }
        }
      ]
    },
    {
      "cell_type": "code",
      "metadata": {
        "id": "vCkSOMlvCbRB",
        "colab_type": "code",
        "outputId": "c71fd3be-94bc-41d3-ef58-bcb404be62e7",
        "colab": {
          "base_uri": "https://localhost:8080/",
          "height": 435
        }
      },
      "source": [
        "dfwine=dfwine.drop(columns=['typered','erro'],axis=1)\n",
        "dict2={3:'low',4:'low',5:'low',6:\"medium\",7:\"high\",8:\"high\",9:\"high\"}\n",
        "dfwine['target']=dfwine['target'].map(dict2)\n",
        "dfwine"
      ],
      "execution_count": 0,
      "outputs": [
        {
          "output_type": "execute_result",
          "data": {
            "text/html": [
              "<div>\n",
              "<style scoped>\n",
              "    .dataframe tbody tr th:only-of-type {\n",
              "        vertical-align: middle;\n",
              "    }\n",
              "\n",
              "    .dataframe tbody tr th {\n",
              "        vertical-align: top;\n",
              "    }\n",
              "\n",
              "    .dataframe thead th {\n",
              "        text-align: right;\n",
              "    }\n",
              "</style>\n",
              "<table border=\"1\" class=\"dataframe\">\n",
              "  <thead>\n",
              "    <tr style=\"text-align: right;\">\n",
              "      <th></th>\n",
              "      <th>fixed acidity</th>\n",
              "      <th>volatile acidity</th>\n",
              "      <th>citric acid</th>\n",
              "      <th>residual sugar</th>\n",
              "      <th>chlorides</th>\n",
              "      <th>free sulfur dioxide</th>\n",
              "      <th>total sulfur dioxide</th>\n",
              "      <th>density</th>\n",
              "      <th>pH</th>\n",
              "      <th>sulphates</th>\n",
              "      <th>alcohol</th>\n",
              "      <th>typewhite</th>\n",
              "      <th>target</th>\n",
              "    </tr>\n",
              "  </thead>\n",
              "  <tbody>\n",
              "    <tr>\n",
              "      <th>0</th>\n",
              "      <td>-0.170435</td>\n",
              "      <td>-0.424794</td>\n",
              "      <td>0.277011</td>\n",
              "      <td>3.237650</td>\n",
              "      <td>-0.319553</td>\n",
              "      <td>0.835395</td>\n",
              "      <td>0.973647</td>\n",
              "      <td>2.134906</td>\n",
              "      <td>-1.360815</td>\n",
              "      <td>-0.550722</td>\n",
              "      <td>-1.423557</td>\n",
              "      <td>0.572356</td>\n",
              "      <td>medium</td>\n",
              "    </tr>\n",
              "    <tr>\n",
              "      <th>1</th>\n",
              "      <td>-0.707676</td>\n",
              "      <td>-0.244379</td>\n",
              "      <td>0.139857</td>\n",
              "      <td>-0.810162</td>\n",
              "      <td>-0.204102</td>\n",
              "      <td>-0.941030</td>\n",
              "      <td>0.297035</td>\n",
              "      <td>-0.231174</td>\n",
              "      <td>0.502637</td>\n",
              "      <td>-0.287096</td>\n",
              "      <td>-0.837827</td>\n",
              "      <td>0.572356</td>\n",
              "      <td>medium</td>\n",
              "    </tr>\n",
              "    <tr>\n",
              "      <th>2</th>\n",
              "      <td>0.673800</td>\n",
              "      <td>-0.364656</td>\n",
              "      <td>0.551319</td>\n",
              "      <td>0.313053</td>\n",
              "      <td>-0.175239</td>\n",
              "      <td>-0.024165</td>\n",
              "      <td>-0.326161</td>\n",
              "      <td>0.140639</td>\n",
              "      <td>0.254176</td>\n",
              "      <td>-0.616628</td>\n",
              "      <td>-0.335773</td>\n",
              "      <td>0.572356</td>\n",
              "      <td>medium</td>\n",
              "    </tr>\n",
              "    <tr>\n",
              "      <th>3</th>\n",
              "      <td>-0.016938</td>\n",
              "      <td>-0.665347</td>\n",
              "      <td>0.002703</td>\n",
              "      <td>0.652137</td>\n",
              "      <td>0.055662</td>\n",
              "      <td>0.950003</td>\n",
              "      <td>1.258536</td>\n",
              "      <td>0.309644</td>\n",
              "      <td>-0.180629</td>\n",
              "      <td>-0.880254</td>\n",
              "      <td>-0.503124</td>\n",
              "      <td>0.572356</td>\n",
              "      <td>medium</td>\n",
              "    </tr>\n",
              "    <tr>\n",
              "      <th>4</th>\n",
              "      <td>-0.016938</td>\n",
              "      <td>-0.665347</td>\n",
              "      <td>0.002703</td>\n",
              "      <td>0.652137</td>\n",
              "      <td>0.055662</td>\n",
              "      <td>0.950003</td>\n",
              "      <td>1.258536</td>\n",
              "      <td>0.309644</td>\n",
              "      <td>-0.180629</td>\n",
              "      <td>-0.880254</td>\n",
              "      <td>-0.503124</td>\n",
              "      <td>0.572356</td>\n",
              "      <td>medium</td>\n",
              "    </tr>\n",
              "    <tr>\n",
              "      <th>...</th>\n",
              "      <td>...</td>\n",
              "      <td>...</td>\n",
              "      <td>...</td>\n",
              "      <td>...</td>\n",
              "      <td>...</td>\n",
              "      <td>...</td>\n",
              "      <td>...</td>\n",
              "      <td>...</td>\n",
              "      <td>...</td>\n",
              "      <td>...</td>\n",
              "      <td>...</td>\n",
              "      <td>...</td>\n",
              "      <td>...</td>\n",
              "    </tr>\n",
              "    <tr>\n",
              "      <th>6492</th>\n",
              "      <td>-0.784424</td>\n",
              "      <td>1.559768</td>\n",
              "      <td>-1.643144</td>\n",
              "      <td>-0.725391</td>\n",
              "      <td>0.979268</td>\n",
              "      <td>0.090443</td>\n",
              "      <td>-1.269857</td>\n",
              "      <td>0.073036</td>\n",
              "      <td>1.434362</td>\n",
              "      <td>0.306062</td>\n",
              "      <td>-0.001070</td>\n",
              "      <td>-1.747165</td>\n",
              "      <td>low</td>\n",
              "    </tr>\n",
              "    <tr>\n",
              "      <th>6493</th>\n",
              "      <td>-1.014670</td>\n",
              "      <td>1.259077</td>\n",
              "      <td>-1.505990</td>\n",
              "      <td>-0.683005</td>\n",
              "      <td>0.171113</td>\n",
              "      <td>0.491571</td>\n",
              "      <td>-1.145218</td>\n",
              "      <td>0.147399</td>\n",
              "      <td>1.869168</td>\n",
              "      <td>-0.015461</td>\n",
              "      <td>0.584660</td>\n",
              "      <td>-1.747165</td>\n",
              "      <td>medium</td>\n",
              "    </tr>\n",
              "    <tr>\n",
              "      <th>6494</th>\n",
              "      <td>-0.707676</td>\n",
              "      <td>1.018524</td>\n",
              "      <td>-1.300259</td>\n",
              "      <td>-0.661813</td>\n",
              "      <td>0.575191</td>\n",
              "      <td>-0.081470</td>\n",
              "      <td>-1.341079</td>\n",
              "      <td>0.356966</td>\n",
              "      <td>1.248017</td>\n",
              "      <td>1.426472</td>\n",
              "      <td>0.417309</td>\n",
              "      <td>-1.747165</td>\n",
              "      <td>medium</td>\n",
              "    </tr>\n",
              "    <tr>\n",
              "      <th>6495</th>\n",
              "      <td>-1.014670</td>\n",
              "      <td>1.830390</td>\n",
              "      <td>-1.368836</td>\n",
              "      <td>-0.725391</td>\n",
              "      <td>0.546328</td>\n",
              "      <td>0.090443</td>\n",
              "      <td>-1.269857</td>\n",
              "      <td>0.265703</td>\n",
              "      <td>2.179743</td>\n",
              "      <td>1.162846</td>\n",
              "      <td>-0.252097</td>\n",
              "      <td>-1.747165</td>\n",
              "      <td>low</td>\n",
              "    </tr>\n",
              "    <tr>\n",
              "      <th>6496</th>\n",
              "      <td>-0.937922</td>\n",
              "      <td>-0.184241</td>\n",
              "      <td>1.031358</td>\n",
              "      <td>-0.386307</td>\n",
              "      <td>0.315426</td>\n",
              "      <td>-0.711814</td>\n",
              "      <td>-1.305468</td>\n",
              "      <td>0.272463</td>\n",
              "      <td>1.061672</td>\n",
              "      <td>0.833314</td>\n",
              "      <td>0.417309</td>\n",
              "      <td>-1.747165</td>\n",
              "      <td>medium</td>\n",
              "    </tr>\n",
              "  </tbody>\n",
              "</table>\n",
              "<p>6497 rows × 13 columns</p>\n",
              "</div>"
            ],
            "text/plain": [
              "      fixed acidity  volatile acidity  citric acid  ...   alcohol  typewhite  target\n",
              "0         -0.170435         -0.424794     0.277011  ... -1.423557   0.572356  medium\n",
              "1         -0.707676         -0.244379     0.139857  ... -0.837827   0.572356  medium\n",
              "2          0.673800         -0.364656     0.551319  ... -0.335773   0.572356  medium\n",
              "3         -0.016938         -0.665347     0.002703  ... -0.503124   0.572356  medium\n",
              "4         -0.016938         -0.665347     0.002703  ... -0.503124   0.572356  medium\n",
              "...             ...               ...          ...  ...       ...        ...     ...\n",
              "6492      -0.784424          1.559768    -1.643144  ... -0.001070  -1.747165     low\n",
              "6493      -1.014670          1.259077    -1.505990  ...  0.584660  -1.747165  medium\n",
              "6494      -0.707676          1.018524    -1.300259  ...  0.417309  -1.747165  medium\n",
              "6495      -1.014670          1.830390    -1.368836  ... -0.252097  -1.747165     low\n",
              "6496      -0.937922         -0.184241     1.031358  ...  0.417309  -1.747165  medium\n",
              "\n",
              "[6497 rows x 13 columns]"
            ]
          },
          "metadata": {
            "tags": []
          },
          "execution_count": 114
        }
      ]
    },
    {
      "cell_type": "markdown",
      "metadata": {
        "id": "mmjPpBM_b05_",
        "colab_type": "text"
      },
      "source": [
        "###model selection and tuning "
      ]
    },
    {
      "cell_type": "code",
      "metadata": {
        "id": "jC-3b2WoCbOZ",
        "colab_type": "code",
        "colab": {}
      },
      "source": [
        "#random state keep the split result same...\n",
        "X_train, X_test, y_train, y_test = train_test_split(dfwine.iloc[:,:-1], dfwine.iloc[:,-1], test_size=0.3,random_state=42)\n",
        "from sklearn.metrics import accuracy_score"
      ],
      "execution_count": 0,
      "outputs": []
    },
    {
      "cell_type": "markdown",
      "metadata": {
        "id": "oYXCHAVTraO3",
        "colab_type": "text"
      },
      "source": [
        "###RFR"
      ]
    },
    {
      "cell_type": "code",
      "metadata": {
        "id": "1FgwEDnwo4pm",
        "colab_type": "code",
        "colab": {}
      },
      "source": [
        "dict3={'high':3,'low':1,'medium':2}\n",
        "y_train1=y_train.copy()\n",
        "y_train1=y_train1.map(dict3)\n"
      ],
      "execution_count": 0,
      "outputs": []
    },
    {
      "cell_type": "code",
      "metadata": {
        "id": "a3CGlTWKqIRW",
        "colab_type": "code",
        "outputId": "9b130e30-3c47-4cc6-b255-20a716c4c0fe",
        "colab": {
          "base_uri": "https://localhost:8080/",
          "height": 50
        }
      },
      "source": [
        "from sklearn.ensemble import RandomForestRegressor\n",
        "from sklearn.datasets import make_regression\n",
        "\n",
        "\n",
        "\n",
        "depthlist=[10,20,30,40,50,60,70,80,90,100]\n",
        "estimatorslist=[25,50,75,100,125,150,200,300]\n",
        "accuracylist=[]\n",
        "for m in depthlist:\n",
        "  for n in estimatorslist:\n",
        "    forest=RandomForestRegressor(max_depth=m,n_estimators=n, random_state=50,n_jobs=-1)\n",
        "    scores1=cross_val_score(forest,X_train,y_train1,cv=5)\n",
        "    accuracyscore=scores1.mean()\n",
        "    accuracylist.append(accuracyscore)\n",
        "    #print(m,n)\n",
        "\n",
        "print(max(accuracylist))\n",
        "accuracylist.index(max(accuracylist))"
      ],
      "execution_count": 0,
      "outputs": [
        {
          "output_type": "stream",
          "text": [
            "0.49470095926613045\n"
          ],
          "name": "stdout"
        },
        {
          "output_type": "execute_result",
          "data": {
            "text/plain": [
              "31"
            ]
          },
          "metadata": {
            "tags": []
          },
          "execution_count": 109
        }
      ]
    },
    {
      "cell_type": "code",
      "metadata": {
        "id": "-NF67VGgnkEr",
        "colab_type": "code",
        "outputId": "064601fd-0ccd-490c-9876-34b6db0cb39e",
        "colab": {
          "base_uri": "https://localhost:8080/",
          "height": 84
        }
      },
      "source": [
        "forest=RandomForestRegressor(max_depth=40,n_estimators=200, random_state=50, verbose=1, n_jobs=-1)\n",
        "forest.fit(X_train,y_train1)\n",
        "\n",
        "importances=forest.feature_importances_.tolist()\n",
        "featurelist=X_train.columns.tolist()\n",
        "\n",
        "dfrf=pd.DataFrame(columns=['importances','featurelist'])\n",
        "dfrf['importances']=importances\n",
        "dfrf['featurelist']=featurelist\n",
        "\n",
        "dfrf=dfrf.sort_values(by=['importances'],ascending=False)"
      ],
      "execution_count": 0,
      "outputs": [
        {
          "output_type": "stream",
          "text": [
            "[Parallel(n_jobs=-1)]: Using backend ThreadingBackend with 2 concurrent workers.\n",
            "[Parallel(n_jobs=-1)]: Done  46 tasks      | elapsed:    0.9s\n",
            "[Parallel(n_jobs=-1)]: Done 196 tasks      | elapsed:    3.6s\n",
            "[Parallel(n_jobs=-1)]: Done 200 out of 200 | elapsed:    3.6s finished\n"
          ],
          "name": "stderr"
        }
      ]
    },
    {
      "cell_type": "code",
      "metadata": {
        "id": "_TEIq9dtqAnt",
        "colab_type": "code",
        "outputId": "aaf0b108-63d6-468a-8455-1635833a6457",
        "colab": {
          "base_uri": "https://localhost:8080/",
          "height": 312
        }
      },
      "source": [
        "sns.barplot(y=dfrf['featurelist'],x=dfrf['importances'])\n",
        "plt.xlabel('importance')\n",
        "plt.ylabel('feature')\n",
        "plt.title('importance-feature')\n"
      ],
      "execution_count": 0,
      "outputs": [
        {
          "output_type": "execute_result",
          "data": {
            "text/plain": [
              "Text(0.5, 1.0, 'importance-feature')"
            ]
          },
          "metadata": {
            "tags": []
          },
          "execution_count": 111
        },
        {
          "output_type": "display_data",
          "data": {
            "image/png": "[encoded data removed]",
            "text/plain": [
              "<Figure size 432x288 with 1 Axes>"
            ]
          },
          "metadata": {
            "tags": []
          }
        }
      ]
    },
    {
      "cell_type": "markdown",
      "metadata": {
        "id": "c_JYxX_mX3ll",
        "colab_type": "text"
      },
      "source": [
        "###logistic regression with L1 regulization"
      ]
    },
    {
      "cell_type": "code",
      "metadata": {
        "id": "rzdcTQ7NX3ZE",
        "colab_type": "code",
        "outputId": "2d1d2945-5448-4339-a77f-4659ea8bccba",
        "colab": {
          "base_uri": "https://localhost:8080/",
          "height": 84
        }
      },
      "source": [
        "from sklearn.linear_model import LogisticRegression\n",
        "clist=[0.001,0.005,0.01,0.05,0.1,0.5,1]\n",
        "solverlist=['liblinear','saga'] \n",
        "clisting=[]\n",
        "solv=[]\n",
        "scorelist=[]\n",
        "for c in clist:\n",
        "  for sol in solverlist:\n",
        "    clf = LogisticRegression(penalty='l1',C=c,solver=sol,max_iter=10000)\n",
        "    scores = cross_val_score(clf, X_train, y_train, cv=5)\n",
        "    scores=scores.mean()\n",
        "    scorelist.append(scores)\n",
        "    clisting.append(c)\n",
        "    solv.append(sol)\n",
        "    #print(c,sol)\n",
        "\n",
        "\n",
        "print(max(scorelist))\n",
        "print(scorelist.index(max(scorelist)))\n",
        "print(clisting[scorelist.index(max(scorelist))])\n",
        "print(solv[scorelist.index(max(scorelist))])"
      ],
      "execution_count": 0,
      "outputs": [
        {
          "output_type": "stream",
          "text": [
            "0.5821380819400621\n",
            "10\n",
            "0.5\n",
            "liblinear\n"
          ],
          "name": "stdout"
        }
      ]
    },
    {
      "cell_type": "code",
      "metadata": {
        "id": "dIAeHh1QcOsX",
        "colab_type": "code",
        "outputId": "51b2e69f-ab03-44cc-ac92-f14432b1b7c4",
        "colab": {
          "base_uri": "https://localhost:8080/",
          "height": 419
        }
      },
      "source": [
        "from sklearn.feature_selection import RFE\n",
        "model = LogisticRegression(penalty='l1',C=0.5,solver='liblinear',max_iter=10000) \n",
        "rfe = RFE(model, 1)\n",
        "fit=rfe.fit(X_train, y_train)\n",
        "\n",
        "print(\"Feature Ranking: %s\"% fit.ranking_)\n",
        "dfl1ranking=pd.DataFrame(fit.ranking_)\n",
        "dfl1ranking.columns=['rank']\n",
        "dfl1ranking['feature']=X_train.columns.tolist()\n",
        "dfl1ranking.sort_values(by=['rank'])"
      ],
      "execution_count": 0,
      "outputs": [
        {
          "output_type": "stream",
          "text": [
            "Feature Ranking: [ 8  2 12  6 11  4  3  7  9  5  1 10]\n"
          ],
          "name": "stdout"
        },
        {
          "output_type": "execute_result",
          "data": {
            "text/html": [
              "<div>\n",
              "<style scoped>\n",
              "    .dataframe tbody tr th:only-of-type {\n",
              "        vertical-align: middle;\n",
              "    }\n",
              "\n",
              "    .dataframe tbody tr th {\n",
              "        vertical-align: top;\n",
              "    }\n",
              "\n",
              "    .dataframe thead th {\n",
              "        text-align: right;\n",
              "    }\n",
              "</style>\n",
              "<table border=\"1\" class=\"dataframe\">\n",
              "  <thead>\n",
              "    <tr style=\"text-align: right;\">\n",
              "      <th></th>\n",
              "      <th>rank</th>\n",
              "      <th>feature</th>\n",
              "    </tr>\n",
              "  </thead>\n",
              "  <tbody>\n",
              "    <tr>\n",
              "      <th>10</th>\n",
              "      <td>1</td>\n",
              "      <td>alcohol</td>\n",
              "    </tr>\n",
              "    <tr>\n",
              "      <th>1</th>\n",
              "      <td>2</td>\n",
              "      <td>volatile acidity</td>\n",
              "    </tr>\n",
              "    <tr>\n",
              "      <th>6</th>\n",
              "      <td>3</td>\n",
              "      <td>total sulfur dioxide</td>\n",
              "    </tr>\n",
              "    <tr>\n",
              "      <th>5</th>\n",
              "      <td>4</td>\n",
              "      <td>free sulfur dioxide</td>\n",
              "    </tr>\n",
              "    <tr>\n",
              "      <th>9</th>\n",
              "      <td>5</td>\n",
              "      <td>sulphates</td>\n",
              "    </tr>\n",
              "    <tr>\n",
              "      <th>3</th>\n",
              "      <td>6</td>\n",
              "      <td>residual sugar</td>\n",
              "    </tr>\n",
              "    <tr>\n",
              "      <th>7</th>\n",
              "      <td>7</td>\n",
              "      <td>density</td>\n",
              "    </tr>\n",
              "    <tr>\n",
              "      <th>0</th>\n",
              "      <td>8</td>\n",
              "      <td>fixed acidity</td>\n",
              "    </tr>\n",
              "    <tr>\n",
              "      <th>8</th>\n",
              "      <td>9</td>\n",
              "      <td>pH</td>\n",
              "    </tr>\n",
              "    <tr>\n",
              "      <th>11</th>\n",
              "      <td>10</td>\n",
              "      <td>typewhite</td>\n",
              "    </tr>\n",
              "    <tr>\n",
              "      <th>4</th>\n",
              "      <td>11</td>\n",
              "      <td>chlorides</td>\n",
              "    </tr>\n",
              "    <tr>\n",
              "      <th>2</th>\n",
              "      <td>12</td>\n",
              "      <td>citric acid</td>\n",
              "    </tr>\n",
              "  </tbody>\n",
              "</table>\n",
              "</div>"
            ],
            "text/plain": [
              "    rank               feature\n",
              "10     1               alcohol\n",
              "1      2      volatile acidity\n",
              "6      3  total sulfur dioxide\n",
              "5      4   free sulfur dioxide\n",
              "9      5             sulphates\n",
              "3      6        residual sugar\n",
              "7      7               density\n",
              "0      8         fixed acidity\n",
              "8      9                    pH\n",
              "11    10             typewhite\n",
              "4     11             chlorides\n",
              "2     12           citric acid"
            ]
          },
          "metadata": {
            "tags": []
          },
          "execution_count": 353
        }
      ]
    },
    {
      "cell_type": "markdown",
      "metadata": {
        "id": "b8eYvpkxcfqr",
        "colab_type": "text"
      },
      "source": [
        "###logistic regression with L2 regulization"
      ]
    },
    {
      "cell_type": "code",
      "metadata": {
        "id": "6ZpU_8iACbLv",
        "colab_type": "code",
        "outputId": "530ab31e-3d03-4593-d729-816c791be0f3",
        "colab": {
          "base_uri": "https://localhost:8080/",
          "height": 84
        }
      },
      "source": [
        "from sklearn.linear_model import LogisticRegression\n",
        "clist=[0.001,0.005,0.01,0.05,0.1,0.5,1]\n",
        "solverlist=['newton-cg', 'lbfgs','liblinear','sag','saga'] \n",
        "clisting=[]\n",
        "solv=[]\n",
        "scorelist=[]\n",
        "for c in clist:\n",
        "  for sol in solverlist:\n",
        "    clf = LogisticRegression(penalty='l2',C=c,solver=sol,max_iter=10000)\n",
        "    scores = cross_val_score(clf, X_train, y_train, cv=5)\n",
        "    scores=scores.mean()\n",
        "    scorelist.append(scores)\n",
        "    clisting.append(c)\n",
        "    solv.append(sol)\n",
        "    #print(c,sol)\n",
        "\n",
        "\n",
        "print(max(scorelist))\n",
        "print(scorelist.index(max(scorelist)))\n",
        "print(clisting[scorelist.index(max(scorelist))])\n",
        "print(solv[scorelist.index(max(scorelist))])"
      ],
      "execution_count": 0,
      "outputs": [
        {
          "output_type": "stream",
          "text": [
            "0.5827976643818229\n",
            "27\n",
            "0.5\n",
            "liblinear\n"
          ],
          "name": "stdout"
        }
      ]
    },
    {
      "cell_type": "markdown",
      "metadata": {
        "id": "tVYcFeBajqmw",
        "colab_type": "text"
      },
      "source": [
        "###Knn"
      ]
    },
    {
      "cell_type": "code",
      "metadata": {
        "id": "Z_7Erz2rjsxQ",
        "colab_type": "code",
        "outputId": "e6f12e21-741a-426e-a9f6-61de854486e4",
        "colab": {
          "base_uri": "https://localhost:8080/",
          "height": 50
        }
      },
      "source": [
        "from sklearn.neighbors import KNeighborsClassifier\n",
        "scorelist=[]\n",
        "ilist=[1,2,5,10,25,50,75,100,150,200]\n",
        "for i in ilist:\n",
        "  knn= KNeighborsClassifier(n_neighbors=i)\n",
        "  scores = cross_val_score(knn, X_train, y_train, cv=5)\n",
        "  scores=scores.mean()\n",
        "  scorelist.append(scores)\n",
        "\n",
        "print(max(scorelist))\n",
        "print(scorelist.index(max(scorelist)))"
      ],
      "execution_count": 0,
      "outputs": [
        {
          "output_type": "stream",
          "text": [
            "0.6408631632394008\n",
            "0\n"
          ],
          "name": "stdout"
        }
      ]
    },
    {
      "cell_type": "markdown",
      "metadata": {
        "id": "7Ccupl_hlY0e",
        "colab_type": "text"
      },
      "source": [
        "###RF"
      ]
    },
    {
      "cell_type": "code",
      "metadata": {
        "id": "3ix4ZNoOlYjy",
        "colab_type": "code",
        "colab": {}
      },
      "source": [
        "from sklearn.ensemble import RandomForestClassifier\n",
        "\n",
        "depthlist=[10,20,30,40,50,60,70,80,90,100]\n",
        "estimatorslist=[25,50,75,100,125,150,200,300]\n",
        "accuracylist=[]\n",
        "for m in depthlist:\n",
        "  for n in estimatorslist:\n",
        "    rf0 = RandomForestClassifier(oob_score=True, random_state=12,max_depth=m,n_estimators=n)\n",
        "    scores1=cross_val_score(rf0,X_train,y_train,cv=5)\n",
        "    accuracyscore=scores1.mean()\n",
        "    accuracylist.append(accuracyscore)\n",
        "    print(m,n)"
      ],
      "execution_count": 0,
      "outputs": []
    },
    {
      "cell_type": "code",
      "metadata": {
        "id": "nqZ60R81jso-",
        "colab_type": "code",
        "outputId": "46bfd0de-bffa-484d-ecdc-782196af0275",
        "colab": {
          "base_uri": "https://localhost:8080/",
          "height": 52
        }
      },
      "source": [
        "print(max(accuracylist))\n",
        "accuracylist.index(max(accuracylist))"
      ],
      "execution_count": 0,
      "outputs": [
        {
          "output_type": "stream",
          "text": [
            "0.7015633651277215\n"
          ],
          "name": "stdout"
        },
        {
          "output_type": "execute_result",
          "data": {
            "text/plain": [
              "23"
            ]
          },
          "metadata": {
            "tags": []
          },
          "execution_count": 349
        }
      ]
    },
    {
      "cell_type": "markdown",
      "metadata": {
        "id": "nd4ZmQvahsrs",
        "colab_type": "text"
      },
      "source": [
        "###XGBoosts"
      ]
    },
    {
      "cell_type": "code",
      "metadata": {
        "id": "6DPh8-6hhr_I",
        "colab_type": "code",
        "outputId": "76a1afb8-89d3-4f76-f304-a36faa84c644",
        "colab": {
          "base_uri": "https://localhost:8080/",
          "height": 1000
        }
      },
      "source": [
        "from sklearn import metrics\n",
        "from xgboost.sklearn import XGBClassifier\n",
        "\n",
        "\n",
        "depthlist=[10,20,30,40,50,60,70,80,90,100]\n",
        "estimatorslist=[25,50,75,100,125,150,200,300]\n",
        "\n",
        "accuracylist=[]\n",
        "for m in depthlist:\n",
        "  for n in estimatorslist:\n",
        "   clf = XGBClassifier(max_depth=m,n_estimators=n)\n",
        "   scores1=cross_val_score(clf,X_train,y_train,cv=10)\n",
        "   accuracyscore=scores1.mean()  \n",
        "   accuracylist.append(accuracyscore)\n",
        "   print(m,n)\n",
        "\n",
        "print(max(accuracylist))\n",
        "accuracylist.index(max(accuracylist))"
      ],
      "execution_count": 0,
      "outputs": [
        {
          "output_type": "stream",
          "text": [
            "10 25\n",
            "10 50\n",
            "10 75\n",
            "10 100\n",
            "10 125\n",
            "10 150\n",
            "10 200\n",
            "10 300\n",
            "20 25\n",
            "20 50\n",
            "20 75\n",
            "20 100\n",
            "20 125\n",
            "20 150\n",
            "20 200\n",
            "20 300\n",
            "30 25\n",
            "30 50\n",
            "30 75\n",
            "30 100\n",
            "30 125\n",
            "30 150\n",
            "30 200\n",
            "30 300\n",
            "40 25\n",
            "40 50\n",
            "40 75\n",
            "40 100\n",
            "40 125\n",
            "40 150\n",
            "40 200\n",
            "40 300\n",
            "50 25\n",
            "50 50\n",
            "50 75\n",
            "50 100\n",
            "50 125\n",
            "50 150\n",
            "50 200\n",
            "50 300\n",
            "60 25\n",
            "60 50\n",
            "60 75\n",
            "60 100\n",
            "60 125\n",
            "60 150\n",
            "60 200\n",
            "60 300\n",
            "70 25\n",
            "70 50\n",
            "70 75\n",
            "70 100\n",
            "70 125\n",
            "70 150\n",
            "70 200\n",
            "70 300\n",
            "80 25\n",
            "80 50\n",
            "80 75\n",
            "80 100\n",
            "80 125\n",
            "80 150\n",
            "80 200\n",
            "80 300\n",
            "90 25\n",
            "90 50\n",
            "90 75\n",
            "90 100\n",
            "90 125\n",
            "90 150\n",
            "90 200\n",
            "90 300\n",
            "100 25\n",
            "100 50\n",
            "100 75\n",
            "100 100\n",
            "100 125\n",
            "100 150\n",
            "100 200\n",
            "100 300\n",
            "0.6940857820593502\n"
          ],
          "name": "stdout"
        },
        {
          "output_type": "execute_result",
          "data": {
            "text/plain": [
              "30"
            ]
          },
          "metadata": {
            "tags": []
          },
          "execution_count": 118
        }
      ]
    },
    {
      "cell_type": "code",
      "metadata": {
        "id": "rPN8Q4CWhr7-",
        "colab_type": "code",
        "colab": {}
      },
      "source": [
        ""
      ],
      "execution_count": 0,
      "outputs": []
    },
    {
      "cell_type": "markdown",
      "metadata": {
        "id": "24QN5_dnFc5C",
        "colab_type": "text"
      },
      "source": [
        "#apply the best model on the test set"
      ]
    },
    {
      "cell_type": "code",
      "metadata": {
        "id": "VHEfm1BJCbBv",
        "colab_type": "code",
        "outputId": "390feb7f-4fd6-4203-cf8d-447449683c06",
        "colab": {
          "base_uri": "https://localhost:8080/",
          "height": 50
        }
      },
      "source": [
        "from sklearn.ensemble import RandomForestClassifier\n",
        "rf0 = RandomForestClassifier(oob_score=True, random_state=12,max_depth=30,n_estimators=300)\n",
        "rf0.fit(X_train,y_train)\n",
        "print (rf0.oob_score_)\n",
        "y_pred = rf0.predict(X_test)\n",
        "accuracyscore=accuracy_score(y_pred,y_test)\n",
        "accuracyscore"
      ],
      "execution_count": 0,
      "outputs": [
        {
          "output_type": "stream",
          "text": [
            "0.7094787772157466\n"
          ],
          "name": "stdout"
        },
        {
          "output_type": "execute_result",
          "data": {
            "text/plain": [
              "0.7112820512820512"
            ]
          },
          "metadata": {
            "tags": []
          },
          "execution_count": 203
        }
      ]
    },
    {
      "cell_type": "code",
      "metadata": {
        "id": "gBTLhI_xCa_A",
        "colab_type": "code",
        "outputId": "60a25bd0-dd8e-4f88-8596-56bc84934c82",
        "colab": {
          "base_uri": "https://localhost:8080/",
          "height": 312
        }
      },
      "source": [
        "from sklearn.metrics import confusion_matrix\n",
        "ax= plt.subplot()\n",
        "sns.heatmap(confusion_matrix(y_test,rf0.predict(X_test)), cmap='Blues', annot=True)\n",
        "ax.xaxis.set_ticklabels(['high','low','medium'])\n",
        "ax.yaxis.set_ticklabels(['high','low','medium'],rotation=0)\n",
        "ax.set_xlabel('Predicted labels')\n",
        "ax.set_ylabel('True labels') \n",
        "ax.set_title('Confusion Matrix')\n"
      ],
      "execution_count": 0,
      "outputs": [
        {
          "output_type": "execute_result",
          "data": {
            "text/plain": [
              "Text(0.5, 1.0, 'Confusion Matrix')"
            ]
          },
          "metadata": {
            "tags": []
          },
          "execution_count": 204
        },
        {
          "output_type": "display_data",
          "data": {
            "image/png": "[encoded data removed]",
            "text/plain": [
              "<Figure size 432x288 with 2 Axes>"
            ]
          },
          "metadata": {
            "tags": []
          }
        }
      ]
    },
    {
      "cell_type": "code",
      "metadata": {
        "id": "Ys1bjxdAGauK",
        "colab_type": "code",
        "outputId": "60b94cc0-0c6c-4384-a142-94d6472fd2d0",
        "colab": {
          "base_uri": "https://localhost:8080/",
          "height": 281
        }
      },
      "source": [
        "ilist=['high','low','medium']\n",
        "numlist=[]\n",
        "for i in ilist:\n",
        "  numlist.append(y_test.tolist().count(i))\n",
        "\n",
        "plt.pie(numlist,labels=ilist,autopct='%1.2f%%')\n",
        "plt.title('distribution in y_test')"
      ],
      "execution_count": 0,
      "outputs": [
        {
          "output_type": "execute_result",
          "data": {
            "text/plain": [
              "Text(0.5, 1.0, 'distribution in y_test')"
            ]
          },
          "metadata": {
            "tags": []
          },
          "execution_count": 112
        },
        {
          "output_type": "display_data",
          "data": {
            "image/png": "[encoded data removed]",
            "text/plain": [
              "<Figure size 432x288 with 1 Axes>"
            ]
          },
          "metadata": {
            "tags": []
          }
        }
      ]
    },
    {
      "cell_type": "code",
      "metadata": {
        "id": "wxyatPY-2K3v",
        "colab_type": "code",
        "outputId": "a7614cf8-d2e3-4a66-a5a7-f0452ccf64e0",
        "colab": {
          "base_uri": "https://localhost:8080/",
          "height": 729
        }
      },
      "source": [
        "import matplotlib.pyplot as plt\n",
        "plt.figure(figsize=(20,10))\n",
        "# Pie chart\n",
        "labels = ilist\n",
        "sizes = numlist\n",
        "#colors\n",
        "colors = ['#ff9999','#66b3ff','#99ff99']\n",
        "#explsion\n",
        "explode = (0.05,0.05,0.05)\n",
        " \n",
        "plt.pie(sizes, colors = colors, labels=labels, autopct='%1.1f%%', startangle=90, pctdistance=0.85, explode = explode)\n",
        "#draw circle\n",
        "centre_circle = plt.Circle((0,0),0.70,fc='white')\n",
        "fig = plt.gcf()\n",
        "fig.gca().add_artist(centre_circle)\n",
        "# Equal aspect ratio ensures that pie is drawn as a circle\n",
        " \n",
        "plt.tight_layout()\n",
        "\n",
        "plt.show()"
      ],
      "execution_count": 0,
      "outputs": [
        {
          "output_type": "display_data",
          "data": {
            "image/png": "[encoded data removed]",
            "text/plain": [
              "<Figure size 1440x720 with 1 Axes>"
            ]
          },
          "metadata": {
            "tags": []
          }
        }
      ]
    },
    {
      "cell_type": "code",
      "metadata": {
        "id": "snlLCd-biec6",
        "colab_type": "code",
        "outputId": "e59c1961-29c0-4a5e-d040-b831e115ad79",
        "colab": {
          "base_uri": "https://localhost:8080/",
          "height": 281
        }
      },
      "source": [
        "ylisting=y.tolist()\n",
        "for i in range(len(ylisting)):\n",
        "\n",
        "  ylisting[i]=dict2[ylisting[i]]\n",
        "\n",
        "ilist=['high','low','medium']\n",
        "numlist=[]\n",
        "for i in ilist:\n",
        "  numlist.append(ylisting.count(i))\n",
        "\n",
        "plt.pie(numlist,labels=ilist,autopct='%1.2f%%')\n",
        "plt.title('distribution in y')"
      ],
      "execution_count": 0,
      "outputs": [
        {
          "output_type": "execute_result",
          "data": {
            "text/plain": [
              "Text(0.5, 1.0, 'distribution in y_test')"
            ]
          },
          "metadata": {
            "tags": []
          },
          "execution_count": 225
        },
        {
          "output_type": "display_data",
          "data": {
            "image/png": "[encoded data removed]",
            "text/plain": [
              "<Figure size 432x288 with 1 Axes>"
            ]
          },
          "metadata": {
            "tags": []
          }
        }
      ]
    },
    {
      "cell_type": "code",
      "metadata": {
        "id": "TcubXV_qieaW",
        "colab_type": "code",
        "colab": {}
      },
      "source": [
        ""
      ],
      "execution_count": 0,
      "outputs": []
    },
    {
      "cell_type": "code",
      "metadata": {
        "id": "FjZZpxM0ieXm",
        "colab_type": "code",
        "colab": {}
      },
      "source": [
        ""
      ],
      "execution_count": 0,
      "outputs": []
    },
    {
      "cell_type": "code",
      "metadata": {
        "id": "lvHAnELxhq0Z",
        "colab_type": "code",
        "colab": {}
      },
      "source": [
        ""
      ],
      "execution_count": 0,
      "outputs": []
    }
  ]
}